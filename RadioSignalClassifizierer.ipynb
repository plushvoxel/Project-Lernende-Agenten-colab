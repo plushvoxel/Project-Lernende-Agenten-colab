{
  "nbformat": 4,
  "nbformat_minor": 0,
  "metadata": {
    "colab": {
      "name": "RadioSignalClassifizierer.ipynb",
      "version": "0.3.2",
      "provenance": [],
      "collapsed_sections": [],
      "toc_visible": true,
      "include_colab_link": true
    },
    "kernelspec": {
      "name": "python3",
      "display_name": "Python 3"
    }
  },
  "cells": [
    {
      "cell_type": "markdown",
      "metadata": {
        "id": "view-in-github",
        "colab_type": "text"
      },
      "source": [
        "[View in Colaboratory](https://colab.research.google.com/github/plushvoxel/Project-Lernende-Agenten-colab/blob/master/RadioSignalClassifizierer.ipynb)"
      ]
    },
    {
      "metadata": {
        "id": "E2hcHS_LUbUg",
        "colab_type": "code",
        "outputId": "f5a3202a-428d-4aa0-a524-0a91dfed47b5",
        "colab": {
          "base_uri": "https://localhost:8080/",
          "height": 102
        }
      },
      "cell_type": "code",
      "source": [
        "from __future__ import print_function\n",
        "\n",
        "import math\n",
        "from urllib import request\n",
        "from IPython import display\n",
        "from matplotlib import cm\n",
        "from matplotlib import gridspec\n",
        "from matplotlib import pyplot as plt\n",
        "import numpy as np\n",
        "import pandas as pd\n",
        "from sklearn import metrics\n",
        "import tensorflow as tf\n",
        "from tensorflow.python.data import Dataset\n",
        "from google.colab import files\n",
        "from tarfile import open as taropen\n",
        "from struct import unpack\n",
        "import os\n",
        "import glob\n",
        "import math\n",
        "import seaborn as sns\n",
        "import time\n",
        "!pip install XlsxWriter\n"
      ],
      "execution_count": 1,
      "outputs": [
        {
          "output_type": "stream",
          "text": [
            "Collecting XlsxWriter\n",
            "\u001b[?25l  Downloading https://files.pythonhosted.org/packages/3d/1b/4caecd4efde1d41ba3bef1a81027032a7a6dff7d5112e1731f232c0addb9/XlsxWriter-1.1.2-py2.py3-none-any.whl (142kB)\n",
            "\u001b[K    100% |████████████████████████████████| 143kB 4.4MB/s \n",
            "\u001b[?25hInstalling collected packages: XlsxWriter\n",
            "Successfully installed XlsxWriter-1.1.2\n"
          ],
          "name": "stdout"
        }
      ]
    },
    {
      "metadata": {
        "id": "0E5WlxeN9VNZ",
        "colab_type": "code",
        "outputId": "9625f893-e4a3-4b7e-adf4-35d6b589907b",
        "colab": {
          "base_uri": "https://localhost:8080/",
          "height": 697
        }
      },
      "cell_type": "code",
      "source": [
        "tf.logging.set_verbosity(tf.logging.ERROR)\n",
        "pd.options.display.max_rows = 10\n",
        "pd.options.display.float_format = '{:.1f}'.format\n",
        "\n",
        "request.urlretrieve(\"https://github.com/plushvoxel/Project-Lernende-Agenten-Data-Generator/blob/master/frequency.tar?raw=true\", \"frequency.tar\")\n",
        "tar = taropen(\"frequency.tar\")\n",
        "\n",
        "data = dict()\n",
        "MODKEY = \"mod\"\n",
        "\n",
        "for member in tar.getmembers():\n",
        "  modulation = member.name.split('_')[0]\n",
        "  if modulation == \"am\":\n",
        "    modulation = 0\n",
        "  else:\n",
        "    modulation = 1\n",
        "  if not MODKEY in data:\n",
        "    data[MODKEY] = [modulation]\n",
        "  else:\n",
        "    data[MODKEY].append(modulation)\n",
        "  with tar.extractfile(member) as f:\n",
        "    buffer = f.read()\n",
        "    num_floats = len(buffer)//4\n",
        "    floats = unpack(\"f\"*num_floats, buffer)\n",
        "    i = floats[0::2]\n",
        "    q = floats[1::2]\n",
        "    for j in range(len(i)):\n",
        "      ikey = \"i{:05d}\".format(j)\n",
        "      qkey = \"q{:05d}\".format(j)\n",
        "      if not ikey in data:\n",
        "        data[ikey] = [i[j]]\n",
        "      else:\n",
        "        data[ikey].append(i[j])\n",
        "      if not qkey in data:\n",
        "        data[qkey] = [q[j]]\n",
        "      else:\n",
        "        data[qkey].append(q[j])        \n",
        "signal_dataframe = pd.DataFrame(data=data)\n",
        "signal_dataframeReal = signal_dataframe.copy()\n",
        "signal_dataframe = signal_dataframe.reindex(np.random.permutation(signal_dataframe.index))\n",
        "print(signal_dataframe)\n",
        "\n"
      ],
      "execution_count": 2,
      "outputs": [
        {
          "output_type": "stream",
          "text": [
            "      i00000  i00001  i00002  i00003  i00004  i00005  i00006  i00007  i00008  \\\n",
            "190      0.1     0.0    -3.2    47.3  -187.5   308.4  -235.0    78.3    -8.3   \n",
            "1601     0.2    -0.2     0.2    -0.2     0.2     0.0    -0.3     0.4    -0.2   \n",
            "963     91.9  -117.9   137.3  -144.0   141.8  -128.3   107.5   -82.8    56.0   \n",
            "1322    -0.0     0.1    -0.1     0.1    -0.1     0.3    -0.6     0.6    -0.1   \n",
            "1956     0.7    -0.6     0.5    -0.1    -0.2     0.3    -0.4     0.4    -0.2   \n",
            "...      ...     ...     ...     ...     ...     ...     ...     ...     ...   \n",
            "160     -0.2     0.2    -0.2    -0.5     4.7   -12.2    14.2    -7.5     1.5   \n",
            "1159     0.3    -0.1    -0.0     0.0    -0.0    -0.0     0.1    -0.1     0.1   \n",
            "1124     0.2    -0.1    -0.0    -0.0     0.1    -0.1    -0.0     0.1    -0.0   \n",
            "1831     0.0    -0.1     0.3    -0.2    -0.3     0.6    -0.5     0.4    -0.1   \n",
            "1164    -0.1     0.0     0.0     0.0    -0.0    -0.0     0.1    -0.1     0.1   \n",
            "\n",
            "      i00009   ...    q02038  q02039  q02040  q02041  q02042  q02043  q02044  \\\n",
            "190     -0.0   ...       0.2    -0.1    -8.2    79.8  -240.7   316.0  -191.8   \n",
            "1601    -0.0   ...      -1.1     0.6    -0.1    -0.1     0.1    -0.1     0.3   \n",
            "963    -33.1   ...      11.0   -20.9    36.4   -58.9    84.0  -111.5   136.3   \n",
            "1322    -0.2   ...       0.0     0.1    -0.2     0.4    -0.5     0.2     0.1   \n",
            "1956     0.2   ...      -0.4     0.3    -0.2     0.2    -0.2     0.4    -0.6   \n",
            "...      ...   ...       ...     ...     ...     ...     ...     ...     ...   \n",
            "160      0.1   ...      -0.3     0.2    -0.6     3.0    -5.9     5.0    -1.7   \n",
            "1159    -0.1   ...       0.0    -0.2     0.1     0.0    -0.2     0.2    -0.1   \n",
            "1124    -0.0   ...       0.0    -0.1     0.1    -0.1    -0.1     0.2    -0.2   \n",
            "1831    -0.6   ...      -0.2     0.2     0.0    -0.0    -0.0    -0.0    -0.1   \n",
            "1164     0.0   ...      -0.2     0.1    -0.1     0.1    -0.0     0.1    -0.1   \n",
            "\n",
            "      q02045  q02046  q02047  \n",
            "190     47.9    -2.8    -0.2  \n",
            "1601    -0.5     0.4    -0.2  \n",
            "963   -155.2   166.7  -166.0  \n",
            "1322    -0.1     0.1    -0.1  \n",
            "1956     0.7    -0.7     0.3  \n",
            "...      ...     ...     ...  \n",
            "160     -0.0     0.1    -0.1  \n",
            "1159     0.0     0.0    -0.1  \n",
            "1124     0.1     0.1    -0.0  \n",
            "1831     0.5    -0.6     0.2  \n",
            "1164     0.1     0.1    -0.1  \n",
            "\n",
            "[2040 rows x 4097 columns]\n"
          ],
          "name": "stdout"
        }
      ]
    },
    {
      "metadata": {
        "id": "1apgjREf-KgO",
        "colab_type": "code",
        "colab": {}
      },
      "cell_type": "code",
      "source": [
        "def parse_labels_and_features(dataset):\n",
        "  \"\"\"Extracts labels and features.\n",
        "  \n",
        "  This is a good place to scale or transform the features if needed.\n",
        "  \n",
        "  Args:\n",
        "    dataset: A Pandas `Dataframe`, containing the label on the first column and\n",
        "      monochrome pixel values on the remaining columns, in row major order.\n",
        "  Returns:\n",
        "    A `tuple` `(labels, features)`:\n",
        "      labels: A Pandas `Series`.\n",
        "      features: A Pandas `DataFrame`.\n",
        "  \"\"\"\n",
        "  labels = dataset[MODKEY]\n",
        "\n",
        "  # DataFrame.loc index ranges are inclusive at both ends.\n",
        "  features = dataset.iloc[:,1:4097]\n",
        "  return labels, features"
      ],
      "execution_count": 0,
      "outputs": []
    },
    {
      "metadata": {
        "id": "UulBD5QT-NTZ",
        "colab_type": "code",
        "colab": {}
      },
      "cell_type": "code",
      "source": [
        "def construct_feature_columns():\n",
        "  \"\"\"Construct the TensorFlow Feature Columns.\n",
        "\n",
        "  Returns:\n",
        "    A set of feature columns\n",
        "  \"\"\" \n",
        "  \n",
        "  # There are 784 pixels in each image.\n",
        "  return set([tf.feature_column.numeric_column('features', shape=4096)])"
      ],
      "execution_count": 0,
      "outputs": []
    },
    {
      "metadata": {
        "id": "D1fGpFsl-RYw",
        "colab_type": "code",
        "colab": {}
      },
      "cell_type": "code",
      "source": [
        "def create_predict_input_fn(features, labels, batch_size, repeat_count = 1):\n",
        "  \"\"\"A custom input_fn for sending mnist data to the estimator for predictions.\n",
        "\n",
        "  Args:\n",
        "    features: The features to base predictions on.\n",
        "    labels: The labels of the prediction examples.\n",
        "\n",
        "  Returns:\n",
        "    A function that returns features and labels for predictions.\n",
        "  \"\"\"\n",
        "  def _input_fn():\n",
        "    raw_features = {\"features\": features.values}\n",
        "    raw_targets = np.array(labels)\n",
        "    \n",
        "    ds = Dataset.from_tensor_slices((raw_features, raw_targets)) # warning: 2GB limit\n",
        "    ds = ds.batch(batch_size).repeat(repeat_count)\n",
        "    \n",
        "        \n",
        "    # Return the next batch of data.\n",
        "    feature_batch, label_batch = ds.make_one_shot_iterator().get_next()\n",
        "    return feature_batch, label_batch\n",
        "\n",
        "  return _input_fn"
      ],
      "execution_count": 0,
      "outputs": []
    },
    {
      "metadata": {
        "id": "u6P0TpxB-UED",
        "colab_type": "code",
        "colab": {}
      },
      "cell_type": "code",
      "source": [
        "def create_training_input_fn(features, labels, batch_size, num_epochs=None, shuffle=True, repeat_count=1):\n",
        "  \"\"\"A custom input_fn for sending MNIST data to the estimator for training.\n",
        "\n",
        "  Args:\n",
        "    features: The training features.\n",
        "    labels: The training labels.\n",
        "    batch_size: Batch size to use during training.\n",
        "\n",
        "  Returns:\n",
        "    A function that returns batches of training features and labels during\n",
        "    training.\n",
        "  \"\"\"\n",
        "  def _input_fn(num_epochs=None, shuffle=True):\n",
        "    # Input pipelines are reset with each call to .train(). To ensure model\n",
        "    # gets a good sampling of data, even when number of steps is small, we \n",
        "    # shuffle all the data before creating the Dataset object\n",
        "    idx = np.random.permutation(features.index)\n",
        "    raw_features = {\"features\":features.reindex(idx)}\n",
        "    raw_targets = np.array(labels[idx])\n",
        "   \n",
        "    ds = Dataset.from_tensor_slices((raw_features,raw_targets)) # warning: 2GB limit\n",
        "    ds = ds.batch(batch_size).repeat(repeat_count)\n",
        "    \n",
        "    if shuffle:\n",
        "      ds = ds.shuffle(10000)\n",
        "    \n",
        "    # Return the next batch of data.\n",
        "    feature_batch, label_batch = ds.make_one_shot_iterator().get_next()\n",
        "    return feature_batch, label_batch\n",
        "\n",
        "  return _input_fn"
      ],
      "execution_count": 0,
      "outputs": []
    },
    {
      "metadata": {
        "id": "tQWEMNHbVQ4N",
        "colab_type": "code",
        "colab": {}
      },
      "cell_type": "code",
      "source": [
        "def prepareWorksheet(worksheet):\n",
        "  worksheet.write(0,0, 'Model')\n",
        "  worksheet.write(0,1, 'learning rate')\n",
        "  worksheet.write(0,2, 'training set size')\n",
        "  worksheet.write(0,3, 'validating set size')\n",
        "  worksheet.write(0,4, 'batchsize')\n",
        "  worksheet.write(0,5, 'accuracy')\n",
        "  worksheet.write(0,6, 'validation1')\n",
        "  worksheet.write(0,7, 'validation2')\n",
        "  worksheet.write(0,8, 'validation3')\n",
        "  worksheet.write(0,9, 'validation4')\n",
        "  worksheet.write(0,10, 'validation5')\n",
        "  worksheet.write(0,11, 'validation6')\n",
        "  worksheet.write(0,12, 'validation7')\n",
        "  worksheet.write(0,13, 'validation8')\n",
        "  worksheet.write(0,14, 'validation9')\n",
        "  worksheet.write(0,15, 'validation10')\n",
        "  worksheet.write(0,16, 'training1')\n",
        "  worksheet.write(0,17, 'training2')\n",
        "  worksheet.write(0,18, 'training3')\n",
        "  worksheet.write(0,19, 'training4')\n",
        "  worksheet.write(0,20, 'training5')\n",
        "  worksheet.write(0,21, 'training6')\n",
        "  worksheet.write(0,22, 'training7')\n",
        "  worksheet.write(0,23, 'training8')\n",
        "  worksheet.write(0,24, 'training9')\n",
        "  worksheet.write(0,25, 'training10')\n",
        "  "
      ],
      "execution_count": 0,
      "outputs": []
    },
    {
      "metadata": {
        "id": "jtl8f0YwXFG1",
        "colab_type": "code",
        "colab": {}
      },
      "cell_type": "code",
      "source": [
        "def insertIntoWorksheet(worksheet, line,hidden_units, learning_rate, training_examples_size,validating_examples_size, batch_size , accuracy):\n",
        "  worksheet.write(line,0, hidden_units)\n",
        "  worksheet.write(line,1, learning_rate)\n",
        "  worksheet.write(line,2, training_examples_size)\n",
        "  worksheet.write(line,3, validating_examples_size)\n",
        "  worksheet.write(line,4, batch_size) \n",
        "  worksheet.write(line,5, accuracy)\n"
      ],
      "execution_count": 0,
      "outputs": []
    },
    {
      "metadata": {
        "id": "1gcrTAHI-Y1h",
        "colab_type": "code",
        "colab": {}
      },
      "cell_type": "code",
      "source": [
        "def train_nn_classification_model(\n",
        "    learning_rate,\n",
        "    steps,\n",
        "    batch_size,\n",
        "    hidden_units,\n",
        "    training_examples,\n",
        "    training_targets,\n",
        "    validation_examples,\n",
        "    validation_targets,\n",
        "    test_examples,\n",
        "    test_targets,\n",
        "    worksheet,\n",
        "    line):\n",
        "  \"\"\"Trains a neural network classification model for the MNIST digits dataset.\n",
        "  \n",
        "  In addition to training, this function also prints training progress information,\n",
        "  a plot of the training and validation loss over time, as well as a confusion\n",
        "  matrix.\n",
        "  \n",
        "  Args:\n",
        "    learning_rate: An `int`, the learning rate to use.\n",
        "    steps: A non-zero `int`, the total number of training steps. A training step\n",
        "      consists of a forward and backward pass using a single batch.\n",
        "    batch_size: A non-zero `int`, the batch size.\n",
        "    hidden_units: A `list` of int values, specifying the number of neurons in each layer.\n",
        "    training_examples: A `DataFrame` containing the training features.\n",
        "    training_targets: A `DataFrame` containing the training labels.\n",
        "    validation_examples: A `DataFrame` containing the validation features.\n",
        "    validation_targets: A `DataFrame` containing the validation labels.\n",
        "      \n",
        "  Returns:\n",
        "    The trained `DNNClassifier` object.\n",
        "  \"\"\"\n",
        "\n",
        "  periods = 10\n",
        "  # Caution: input pipelines are reset with each call to train. \n",
        "  # If the number of steps is small, your model may never see most of the data.  \n",
        "  # So with multiple `.train` calls like this you may want to control the length \n",
        "  # of training with num_epochs passed to the input_fn. Or, you can do a really-big shuffle, \n",
        "  # or since it's in-memory data, shuffle all the data in the `input_fn`.\n",
        "  steps_per_period = steps / periods  \n",
        "  # Create the input functions.\n",
        "  predict_training_input_fn = create_predict_input_fn(\n",
        "    training_examples, training_targets, batch_size)\n",
        "  predict_validation_input_fn = create_predict_input_fn(\n",
        "    validation_examples, validation_targets, batch_size)\n",
        "  predict_test_input_fn = create_predict_input_fn(\n",
        "    test_examples, test_targets, batch_size)\n",
        "  training_input_fn = create_training_input_fn(\n",
        "    training_examples, training_targets, batch_size)\n",
        "  \n",
        "  \n",
        "  # Create feature columns.\n",
        "  feature_columns = [tf.feature_column.numeric_column('features', shape=4096)]\n",
        "\n",
        "  # Create a DNNClassifier object.\n",
        "  my_optimizer = tf.train.AdagradOptimizer(learning_rate=learning_rate)\n",
        "  my_optimizer = tf.contrib.estimator.clip_gradients_by_norm(my_optimizer, 5.0)\n",
        "  classifier = tf.estimator.DNNClassifier(\n",
        "      feature_columns=feature_columns,\n",
        "      n_classes=2,\n",
        "      hidden_units=hidden_units,\n",
        "      optimizer=my_optimizer,\n",
        "      config=tf.contrib.learn.RunConfig(keep_checkpoint_max=1)\n",
        "  )\n",
        "\n",
        "  # Train the model, but do so inside a loop so that we can periodically assess\n",
        "  # loss metrics.\n",
        "  print(\"Training model...\")\n",
        "  print(\"LogLoss error (on validation data):\")\n",
        "  training_errors = []\n",
        "  validation_errors = []\n",
        "  for period in range (0, periods):\n",
        "    # Train the model, starting from the prior state.\n",
        "    classifier.train(\n",
        "        input_fn=training_input_fn,\n",
        "        steps=steps_per_period\n",
        "    )\n",
        "  \n",
        "    # Take a break and compute probabilities.\n",
        "    training_predictions = list(classifier.predict(input_fn=predict_training_input_fn))\n",
        "    training_probabilities = np.array([item['probabilities'] for item in training_predictions])\n",
        "    training_pred_class_id = np.array([item['class_ids'][0] for item in training_predictions])\n",
        "    training_pred_one_hot = tf.keras.utils.to_categorical(training_pred_class_id,2)\n",
        "        \n",
        "    validation_predictions = list(classifier.predict(input_fn=predict_validation_input_fn))\n",
        "    validation_probabilities = np.array([item['probabilities'] for item in validation_predictions])    \n",
        "    validation_pred_class_id = np.array([item['class_ids'][0] for item in validation_predictions])\n",
        "    validation_pred_one_hot = tf.keras.utils.to_categorical(validation_pred_class_id,2)\n",
        "    \n",
        "    test_predictions = list(classifier.predict(input_fn=predict_test_input_fn))\n",
        "    test_probabilities = np.array([item['probabilities'] for item in test_predictions])    \n",
        "    test_pred_class_id = np.array([item['class_ids'][0] for item in test_predictions])\n",
        "    test_pred_one_hot = tf.keras.utils.to_categorical(test_pred_class_id,2)   \n",
        "    \n",
        "    # Compute training and validation errors.\n",
        "    training_log_loss = metrics.log_loss(training_targets, training_pred_one_hot)\n",
        "    validation_log_loss = metrics.log_loss(validation_targets, validation_pred_one_hot)\n",
        "    # Occasionally print the current loss.\n",
        "    print(\"  period %02d : %0.2f\" % (period, validation_log_loss))\n",
        "    worksheet.write(line,(6+period), validation_log_loss)\n",
        "    worksheet.write(line,(16+period),training_log_loss)\n",
        "    # Add the loss metrics from this period to our list.\n",
        "    training_errors.append(training_log_loss)\n",
        "    validation_errors.append(validation_log_loss)\n",
        "  print(\"Model training finished.\")\n",
        "  # Remove event files to save disk space.\n",
        "  _ = map(os.remove, glob.glob(os.path.join(classifier.model_dir, 'events.out.tfevents*')))\n",
        "  \n",
        "  # Calculate final predictions (not probabilities, as above).\n",
        "  final_predictions = classifier.predict(input_fn=predict_test_input_fn)\n",
        "  final_predictions = np.array([item['class_ids'][0] for item in final_predictions])\n",
        "  \n",
        "  \n",
        "  accuracy = metrics.accuracy_score(test_targets, final_predictions)\n",
        "  print(\"Final accuracy (on training data): %0.2f\" % accuracy)\n",
        "  # Output a graph of loss metrics over periods.\n",
        "  plt.ylabel(\"LogLoss\")\n",
        "  plt.xlabel(\"Periods\")\n",
        "  plt.title(\"LogLoss vs. Periods\")\n",
        "  plt.plot(training_errors, label=\"training\")\n",
        "  plt.plot(validation_errors, label=\"validation\")\n",
        "  plt.legend()\n",
        "  pic1 = \"{}.png\".format(line)\n",
        "  plt.savefig(pic1)\n",
        "  plt.show()\n",
        "  \n",
        "  # Output a plot of the confusion matrix.\n",
        "  cm = metrics.confusion_matrix(validation_targets, final_predictions)\n",
        "  # Normalize the confusion matrix by row (i.e by the number of samples\n",
        "  # in each class).\n",
        "  cm_normalized = cm.astype(\"float\") / cm.sum(axis=1)[:, np.newaxis]\n",
        "  ax = sns.heatmap(cm_normalized, cmap=\"bone_r\")\n",
        "  ax.set_aspect(1)\n",
        "  plt.title(\"Confusion matrix\")\n",
        "  plt.ylabel(\"True label\")\n",
        "  plt.xlabel(\"Predicted label\")\n",
        "  plt.show()\n",
        "  #pic2 = \"plt2.png\"\n",
        "  #plt.savefig(pic2)\n",
        "  model = \"[input: 4096, \"+str(hidden_units).strip('[]')+\", output 2]\"\n",
        "  insertIntoWorksheet(worksheet, line, model, learning_rate, training_examples.shape[0],validation_examples.shape[0], batch_size , accuracy)\n",
        "  print(model)\n",
        "  print(learning_rate)\n",
        "  print(training_examples.shape[0])\n",
        "  print(validation_examples.shape[0])\n",
        "  print(batch_size)\n",
        "  print(accuracy)\n",
        "  plt.close(pic1)\n",
        "  #plt.close(pic2)\n",
        "  return classifier"
      ],
      "execution_count": 0,
      "outputs": []
    },
    {
      "metadata": {
        "id": "_97IhuP1-dXZ",
        "colab_type": "code",
        "cellView": "both",
        "colab": {}
      },
      "cell_type": "code",
      "source": [
        "def train_automated(\n",
        "    training_set_size,\n",
        "    validating_set_size,\n",
        "    test_set_size,\n",
        "    learning_rate,\n",
        "    steps,\n",
        "    batch_size,\n",
        "    model,\n",
        "    worksheet,\n",
        "    line):\n",
        "  \"\"\" Function used for automate the process of trying new network configurations\n",
        "  \n",
        "  Args:\n",
        "    training_set_size: An 'int', number of samples used for training\n",
        "    validating_set_size: An 'int', number of samples used for validation\n",
        "    test_set_size: An 'int', number of samples used for test\n",
        "    learning_rate: An `int`, the learning rate to use.\n",
        "    steps: A non-zero `int`, the total number of training steps. A training step\n",
        "      consists of a forward and backward pass using a single batch.\n",
        "    batch_size: A non-zero `int`, the batch size.\n",
        "    model: A list of 'int', define the number of neurons in each hidden layer\n",
        "      \n",
        "  Returns:\n",
        "    The trained `DNNClassifier` object.\n",
        "  \"\"\"\n",
        "  activation_function = \"RELU\" #@param [\"RELU\", \"Sigmoid\", \"Tanh\"]\n",
        "  regression = \"None\" #@param [\"None\", \"L1\", \"L2\"]\n",
        "  regression_rate = 3 #@param [\"3\", \"1\", \"0.3\", \"0.1\", \"0.03\", \"0.01\", \"0.003\", \"0.001\"] {type:\"raw\"}\n",
        "  training_targets, training_examples = parse_labels_and_features(signal_dataframe[0:training_set_size])\n",
        "  validation_targets, validation_examples = parse_labels_and_features(signal_dataframe[training_set_size:(training_set_size+validating_set_size)])\n",
        "  test_targets, test_examples = parse_labels_and_features(signal_dataframe[(training_set_size+validating_set_size):(training_set_size+validating_set_size+test_set_size)])\n",
        "  nn_classification = train_nn_classification_model(\n",
        "      learning_rate=learning_rate,\n",
        "      steps=steps,\n",
        "      batch_size=batch_size,\n",
        "      hidden_units=model,\n",
        "      training_examples=training_examples,\n",
        "      training_targets=training_targets,\n",
        "      validation_examples=validation_examples,\n",
        "      validation_targets=validation_targets,\n",
        "      test_examples=test_examples,\n",
        "      test_targets=test_targets,\n",
        "      worksheet = worksheet,\n",
        "      line = line)"
      ],
      "execution_count": 0,
      "outputs": []
    },
    {
      "metadata": {
        "id": "eKFrWhkHBlKZ",
        "colab_type": "code",
        "outputId": "75feb71a-c392-4fec-ebeb-e56955a7a2f6",
        "colab": {
          "base_uri": "https://localhost:8080/",
          "height": 2687
        }
      },
      "cell_type": "code",
      "source": [
        "num_samples = signal_dataframe.shape[0]\n",
        "learning_rate_steps = [0.1]\n",
        "data_set_distribution= [[60, 20, 20]]\n",
        "name = \"test\"+time.strftime(\"%Y%m%d-%H%M%S\")+\".xlsx\"\n",
        "d = dict()\n",
        "df = pd.DataFrame(data=d)\n",
        "with open(name, 'w') as f:\n",
        "  \n",
        "  writer = pd.ExcelWriter(name)\n",
        "  df.to_excel(writer, sheet_name='Sheet1')\n",
        "  workbook = writer.book\n",
        "  worksheet = writer.sheets['Sheet1']\n",
        "  prepareWorksheet(worksheet)\n",
        "  models = [[4096, 2048, 1024, 512], [4096, 4096]]\n",
        "  batch_sizes=[1]\n",
        "  line = 1\n",
        "  for model in models: #number of neurons per layer\n",
        "    for learning_rate in learning_rate_steps: # learning_rate used for training\n",
        "      for v in data_set_distribution: # try several dataset_distributions\n",
        "        for batch_size in batch_sizes:\n",
        "          training_set_size = int(num_samples * (v[0]/100))\n",
        "          validating_set_size = int(num_samples * (v[1]/100))\n",
        "          test_set_size = int(num_samples * (v[2]/100))\n",
        "          train_automated(\n",
        "                training_set_size,\n",
        "                validating_set_size,\n",
        "                test_set_size,\n",
        "                learning_rate,\n",
        "                training_set_size//batch_size,\n",
        "                batch_size,\n",
        "                model,\n",
        "                worksheet,\n",
        "                line = line)\n",
        "                #insertIntoWorksheet(worksheet, line, \"model\", learning_rate, training_set_size,validating_set_size , batch_size , 1, \"pic1\")\n",
        "          line = line + 1\n",
        "  writer.save()\n",
        "  writer.close()\n",
        "files.download(name) \n",
        "        \n",
        "      \n",
        "    "
      ],
      "execution_count": 14,
      "outputs": [
        {
          "output_type": "stream",
          "text": [
            "Training model...\n",
            "LogLoss error (on validation data):\n",
            "  period 00 : 4.57\n",
            "  period 01 : 3.89\n",
            "  period 02 : 2.54\n",
            "  period 03 : 2.71\n",
            "  period 04 : 2.79\n",
            "  period 05 : 8.63\n",
            "  period 06 : 2.03\n",
            "  period 07 : 1.95\n",
            "  period 08 : 1.86\n",
            "  period 09 : 1.44\n",
            "Model training finished.\n",
            "Final accuracy (on training data): 0.96\n"
          ],
          "name": "stdout"
        },
        {
          "output_type": "display_data",
          "data": {
            "image/png": "[encoded data removed]",
            "text/plain": [
              "<matplotlib.figure.Figure at 0x7fa98a0ea9b0>"
            ]
          },
          "metadata": {
            "tags": []
          }
        },
        {
          "output_type": "display_data",
          "data": {
            "image/png": "[encoded data removed]",
            "text/plain": [
              "<matplotlib.figure.Figure at 0x7fa989846550>"
            ]
          },
          "metadata": {
            "tags": []
          }
        },
        {
          "output_type": "stream",
          "text": [
            "[input: 4096, 4096, 2048, 1024, 512, output 2]\n",
            "0.1\n",
            "1224\n",
            "408\n",
            "1\n",
            "0.9583333333333334\n",
            "Training model...\n",
            "LogLoss error (on validation data):\n",
            "  period 00 : 3.30\n",
            "  period 01 : 2.79\n",
            "  period 02 : 3.98\n",
            "  period 03 : 2.88\n",
            "  period 04 : 2.20\n",
            "  period 05 : 2.20\n",
            "  period 06 : 1.69\n",
            "  period 07 : 1.95\n",
            "  period 08 : 2.12\n",
            "  period 09 : 1.86\n",
            "Model training finished.\n",
            "Final accuracy (on training data): 0.95\n"
          ],
          "name": "stdout"
        },
        {
          "output_type": "display_data",
          "data": {
            "image/png": "[encoded data removed]",
            "text/plain": [
              "<matplotlib.figure.Figure at 0x7fa98e4bfb00>"
            ]
          },
          "metadata": {
            "tags": []
          }
        },
        {
          "output_type": "display_data",
          "data": {
            "image/png": "[encoded data removed]",
            "text/plain": [
              "<matplotlib.figure.Figure at 0x7fa98d633a90>"
            ]
          },
          "metadata": {
            "tags": []
          }
        },
        {
          "output_type": "stream",
          "text": [
            "[input: 4096, 4096, 4096, output 2]\n",
            "0.1\n",
            "1224\n",
            "408\n",
            "1\n",
            "0.9534313725490197\n"
          ],
          "name": "stdout"
        },
        {
          "output_type": "error",
          "ename": "MessageError",
          "evalue": "ignored",
          "traceback": [
            "\u001b[0;31m---------------------------------------------------------------------------\u001b[0m",
            "\u001b[0;31mMessageError\u001b[0m                              Traceback (most recent call last)",
            "\u001b[0;32m<ipython-input-14-269bf61075ab>\u001b[0m in \u001b[0;36m<module>\u001b[0;34m()\u001b[0m\n\u001b[1;32m     36\u001b[0m   \u001b[0mwriter\u001b[0m\u001b[0;34m.\u001b[0m\u001b[0msave\u001b[0m\u001b[0;34m(\u001b[0m\u001b[0;34m)\u001b[0m\u001b[0;34m\u001b[0m\u001b[0m\n\u001b[1;32m     37\u001b[0m   \u001b[0mwriter\u001b[0m\u001b[0;34m.\u001b[0m\u001b[0mclose\u001b[0m\u001b[0;34m(\u001b[0m\u001b[0;34m)\u001b[0m\u001b[0;34m\u001b[0m\u001b[0m\n\u001b[0;32m---> 38\u001b[0;31m \u001b[0mfiles\u001b[0m\u001b[0;34m.\u001b[0m\u001b[0mdownload\u001b[0m\u001b[0;34m(\u001b[0m\u001b[0mname\u001b[0m\u001b[0;34m)\u001b[0m\u001b[0;34m\u001b[0m\u001b[0m\n\u001b[0m\u001b[1;32m     39\u001b[0m \u001b[0;34m\u001b[0m\u001b[0m\n\u001b[1;32m     40\u001b[0m \u001b[0;34m\u001b[0m\u001b[0m\n",
            "\u001b[0;32m/usr/local/lib/python3.6/dist-packages/google/colab/files.py\u001b[0m in \u001b[0;36mdownload\u001b[0;34m(filename)\u001b[0m\n\u001b[1;32m    176\u001b[0m       \u001b[0;34m'port'\u001b[0m\u001b[0;34m:\u001b[0m \u001b[0mport\u001b[0m\u001b[0;34m,\u001b[0m\u001b[0;34m\u001b[0m\u001b[0m\n\u001b[1;32m    177\u001b[0m       \u001b[0;34m'path'\u001b[0m\u001b[0;34m:\u001b[0m \u001b[0m_os\u001b[0m\u001b[0;34m.\u001b[0m\u001b[0mpath\u001b[0m\u001b[0;34m.\u001b[0m\u001b[0mabspath\u001b[0m\u001b[0;34m(\u001b[0m\u001b[0mfilename\u001b[0m\u001b[0;34m)\u001b[0m\u001b[0;34m,\u001b[0m\u001b[0;34m\u001b[0m\u001b[0m\n\u001b[0;32m--> 178\u001b[0;31m       \u001b[0;34m'name'\u001b[0m\u001b[0;34m:\u001b[0m \u001b[0m_os\u001b[0m\u001b[0;34m.\u001b[0m\u001b[0mpath\u001b[0m\u001b[0;34m.\u001b[0m\u001b[0mbasename\u001b[0m\u001b[0;34m(\u001b[0m\u001b[0mfilename\u001b[0m\u001b[0;34m)\u001b[0m\u001b[0;34m,\u001b[0m\u001b[0;34m\u001b[0m\u001b[0m\n\u001b[0m\u001b[1;32m    179\u001b[0m   })\n",
            "\u001b[0;32m/usr/local/lib/python3.6/dist-packages/google/colab/output/_js.py\u001b[0m in \u001b[0;36meval_js\u001b[0;34m(script, ignore_result)\u001b[0m\n\u001b[1;32m     37\u001b[0m   \u001b[0;32mif\u001b[0m \u001b[0mignore_result\u001b[0m\u001b[0;34m:\u001b[0m\u001b[0;34m\u001b[0m\u001b[0m\n\u001b[1;32m     38\u001b[0m     \u001b[0;32mreturn\u001b[0m\u001b[0;34m\u001b[0m\u001b[0m\n\u001b[0;32m---> 39\u001b[0;31m   \u001b[0;32mreturn\u001b[0m \u001b[0m_message\u001b[0m\u001b[0;34m.\u001b[0m\u001b[0mread_reply_from_input\u001b[0m\u001b[0;34m(\u001b[0m\u001b[0mrequest_id\u001b[0m\u001b[0;34m)\u001b[0m\u001b[0;34m\u001b[0m\u001b[0m\n\u001b[0m\u001b[1;32m     40\u001b[0m \u001b[0;34m\u001b[0m\u001b[0m\n\u001b[1;32m     41\u001b[0m \u001b[0;34m\u001b[0m\u001b[0m\n",
            "\u001b[0;32m/usr/local/lib/python3.6/dist-packages/google/colab/_message.py\u001b[0m in \u001b[0;36mread_reply_from_input\u001b[0;34m(message_id, timeout_sec)\u001b[0m\n\u001b[1;32m    104\u001b[0m         reply.get('colab_msg_id') == message_id):\n\u001b[1;32m    105\u001b[0m       \u001b[0;32mif\u001b[0m \u001b[0;34m'error'\u001b[0m \u001b[0;32min\u001b[0m \u001b[0mreply\u001b[0m\u001b[0;34m:\u001b[0m\u001b[0;34m\u001b[0m\u001b[0m\n\u001b[0;32m--> 106\u001b[0;31m         \u001b[0;32mraise\u001b[0m \u001b[0mMessageError\u001b[0m\u001b[0;34m(\u001b[0m\u001b[0mreply\u001b[0m\u001b[0;34m[\u001b[0m\u001b[0;34m'error'\u001b[0m\u001b[0;34m]\u001b[0m\u001b[0;34m)\u001b[0m\u001b[0;34m\u001b[0m\u001b[0m\n\u001b[0m\u001b[1;32m    107\u001b[0m       \u001b[0;32mreturn\u001b[0m \u001b[0mreply\u001b[0m\u001b[0;34m.\u001b[0m\u001b[0mget\u001b[0m\u001b[0;34m(\u001b[0m\u001b[0;34m'data'\u001b[0m\u001b[0;34m,\u001b[0m \u001b[0;32mNone\u001b[0m\u001b[0;34m)\u001b[0m\u001b[0;34m\u001b[0m\u001b[0m\n\u001b[1;32m    108\u001b[0m \u001b[0;34m\u001b[0m\u001b[0m\n",
            "\u001b[0;31mMessageError\u001b[0m: TypeError: Failed to fetch"
          ]
        }
      ]
    },
    {
      "metadata": {
        "id": "Ef2HRXkQPjl-",
        "colab_type": "code",
        "colab": {
          "base_uri": "https://localhost:8080/",
          "height": 716
        },
        "outputId": "d036d30a-8cdc-4556-b984-e8f321086a6b"
      },
      "cell_type": "code",
      "source": [
        "training_set_size = 10 #@param {type:\"slider\", min:1, max:3000, step:1}\n",
        "validating_set_size = 10 #@param {type:\"slider\", min:1, max:1000, step:1}\n",
        "test_set_size = 1 #@param {type:\"slider\", min:1, max:1000, step:1}\n",
        "learning_rate = 0.03 #@param [\"3\", \"1\", \"0.3\", \"0.1\", \"0.03\", \"0.01\", \"0.003\", \"0.001\", \"0.0003\", \"0.0001\"] {type:\"raw\"}\n",
        "activation_function = \"RELU\" #@param [\"RELU\", \"Sigmoid\", \"Tanh\"]\n",
        "regression = \"None\" #@param [\"None\", \"L1\", \"L2\"]\n",
        "regression_rate = 3 #@param [\"3\", \"1\", \"0.3\", \"0.1\", \"0.03\", \"0.01\", \"0.003\", \"0.001\"] {type:\"raw\"}\n",
        "steps = 11 #@param {type:\"slider\", min:1, max:100, step:1}\n",
        "batch_size = 5 #@param {type:\"slider\", min:1, max:20, step:1}\n",
        "model = [2048, 1024]\n",
        "name = \"test\"+time.strftime(\"%Y%m%d-%H%M%S\")+\".xlsx\"\n",
        "d = dict()\n",
        "df = pd.DataFrame(data=d)\n",
        "with open(name, 'w') as f:\n",
        "\n",
        "  writer = pd.ExcelWriter(name)\n",
        "  df.to_excel(writer, sheet_name='Sheet1')\n",
        "  workbook = writer.book\n",
        "  worksheet = writer.sheets['Sheet1']\n",
        "  prepareWorksheet(worksheet)\n",
        "  models = [[2064]]\n",
        "  batch_sizes=[1]\n",
        "  line = 1\n",
        "#     training_set_size = int(num_samples * (v[0]/100))\n",
        "#     validating_set_size = int(num_samples * (v[1]/100))\n",
        "#      test_set_size = int(num_samples * (v[2]/100))\n",
        "  training_set_size = 10\n",
        "  validating_set_size = 10\n",
        "  test_set_size = 10\n",
        "  train_automated(\n",
        "        training_set_size,\n",
        "        validating_set_size,\n",
        "        test_set_size,\n",
        "        learning_rate,\n",
        "        training_set_size//batch_size,\n",
        "        batch_size,\n",
        "        model,\n",
        "        worksheet,\n",
        "        line = line)\n",
        "  #insertIntoWorksheet(worksheet, line, \"model\", learning_rate, training_set_size,validating_set_size , batch_size , 1, \"pic1\")\n",
        "  line = line + 1\n",
        "  writer.save()\n",
        "  writer.close()\n",
        "files.download(name)\n",
        "\n"
      ],
      "execution_count": 12,
      "outputs": [
        {
          "output_type": "stream",
          "text": [
            "Training model...\n",
            "LogLoss error (on validation data):\n",
            "  period 00 : 10.36\n",
            "  period 01 : 6.91\n",
            "  period 02 : 13.82\n",
            "  period 03 : 13.82\n",
            "  period 04 : 13.82\n",
            "  period 05 : 13.82\n",
            "  period 06 : 13.82\n",
            "  period 07 : 13.82\n",
            "  period 08 : 13.82\n",
            "  period 09 : 13.82\n",
            "Model training finished.\n",
            "Final accuracy (on training data): 0.90\n"
          ],
          "name": "stdout"
        },
        {
          "output_type": "display_data",
          "data": {
            "image/png": "[encoded data removed]",
            "text/plain": [
              "<matplotlib.figure.Figure at 0x7fb471630e48>"
            ]
          },
          "metadata": {
            "tags": []
          }
        },
        {
          "output_type": "stream",
          "text": [
            "[input: 4096, 2048, 1024, output 2]\n",
            "0.03\n",
            "10\n",
            "10\n",
            "5\n",
            "0.9\n"
          ],
          "name": "stdout"
        }
      ]
    }
  ]
}