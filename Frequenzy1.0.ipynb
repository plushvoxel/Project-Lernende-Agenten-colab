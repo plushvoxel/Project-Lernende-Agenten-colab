{
  "nbformat": 4,
  "nbformat_minor": 0,
  "metadata": {
    "colab": {
      "name": "intro_to_neural_nets.ipynb",
      "version": "0.3.2",
      "provenance": [],
      "collapsed_sections": [
        "JndnmDMp66FL",
        "O2q5RRCKqYaU",
        "vvT2jDWjrKew"
      ],
      "include_colab_link": true
    },
    "kernelspec": {
      "name": "python3",
      "display_name": "Python 3"
    }
  },
  "cells": [
    {
      "cell_type": "markdown",
      "metadata": {
        "id": "view-in-github",
        "colab_type": "text"
      },
      "source": [
        "[![Open In Colab](https://colab.research.google.com/assets/colab-badge.svg)](https://colab.research.google.com/github/plushvoxel/Project-Lernende-Agenten-colab/blob/master/Frequenzy1.0.ipynb)"
      ]
    },
    {
      "metadata": {
        "id": "JndnmDMp66FL",
        "colab_type": "text"
      },
      "cell_type": "markdown",
      "source": [
        "#### Copyright 2017 Google LLC."
      ]
    },
    {
      "metadata": {
        "id": "hMqWDc_m6rUC",
        "colab_type": "code",
        "cellView": "both",
        "colab": {}
      },
      "cell_type": "code",
      "source": [
        "# Licensed under the Apache License, Version 2.0 (the \"License\");\n",
        "# you may not use this file except in compliance with the License.\n",
        "# You may obtain a copy of the License at\n",
        "#\n",
        "# https://www.apache.org/licenses/LICENSE-2.0\n",
        "#\n",
        "# Unless required by applicable law or agreed to in writing, software\n",
        "# distributed under the License is distributed on an \"AS IS\" BASIS,\n",
        "# WITHOUT WARRANTIES OR CONDITIONS OF ANY KIND, either express or implied.\n",
        "# See the License for the specific language governing permissions and\n",
        "# limitations under the License."
      ],
      "execution_count": 0,
      "outputs": []
    },
    {
      "metadata": {
        "id": "eV16J6oUY-HN",
        "colab_type": "text"
      },
      "cell_type": "markdown",
      "source": [
        "#Creating a NN"
      ]
    },
    {
      "metadata": {
        "id": "J2kqX6VZTHUy",
        "colab_type": "text"
      },
      "cell_type": "markdown",
      "source": [
        "## Setup\n",
        "\n",
        "First, let's load and prepare the data."
      ]
    },
    {
      "metadata": {
        "id": "AGOM1TUiKNdz",
        "colab_type": "code",
        "colab": {}
      },
      "cell_type": "code",
      "source": [
        "from __future__ import print_function\n",
        "\n",
        "import math\n",
        "from urllib import request\n",
        "from IPython import display\n",
        "from matplotlib import cm\n",
        "from matplotlib import gridspec\n",
        "from matplotlib import pyplot as plt\n",
        "import numpy as np\n",
        "import pandas as pd\n",
        "from sklearn import metrics\n",
        "import tensorflow as tf\n",
        "from tensorflow.python.data import Dataset\n",
        "from google.colab import files\n",
        "from tarfile import open as taropen\n",
        "from struct import unpack\n",
        "import os\n",
        "import glob\n",
        "import math\n",
        "import seaborn as sns"
      ],
      "execution_count": 0,
      "outputs": []
    },
    {
      "metadata": {
        "id": "xwa02-_8PREz",
        "colab_type": "code",
        "cellView": "both",
        "colab": {}
      },
      "cell_type": "code",
      "source": [
        "training_set_size = 1530 #@param {type:\"slider\", min:1, max:10000, step:1}\n",
        "validating_set_size = 510 #@param {type:\"slider\", min:1, max:10000, step:1}\n",
        "test_set_size = 1 #@param {type:\"slider\", min:1, max:1000, step:1}\n",
        "learning_rate = 0.03 #@param [\"3\", \"1\", \"0.3\", \"0.1\", \"0.03\", \"0.01\", \"0.003\", \"0.001\", \"0.0003\", \"0.0001\"] {type:\"raw\"}\n",
        "activation_function = \"RELU\" #@param [\"RELU\", \"Sigmoid\", \"Tanh\"]\n",
        "regression = \"None\" #@param [\"None\", \"L1\", \"L2\"]\n",
        "regression_rate = 3 #@param [\"3\", \"1\", \"0.3\", \"0.1\", \"0.03\", \"0.01\", \"0.003\", \"0.001\"] {type:\"raw\"}\n",
        "steps = 375 #@param {type:\"slider\", min:1, max:1000, step:1}\n",
        "batch_size = 20 #@param {type:\"slider\", min:1, max:20, step:1}\n",
        "model = [2048, 1024]"
      ],
      "execution_count": 0,
      "outputs": []
    },
    {
      "metadata": {
        "id": "E-6f-hz4PPBA",
        "colab_type": "code",
        "colab": {
          "base_uri": "https://localhost:8080/",
          "height": 697
        },
        "outputId": "c626deca-3698-410a-c0ae-c46ece122500"
      },
      "cell_type": "code",
      "source": [
        "tf.logging.set_verbosity(tf.logging.ERROR)\n",
        "pd.options.display.max_rows = 10\n",
        "pd.options.display.float_format = '{:.1f}'.format\n",
        "\n",
        "request.urlretrieve(\"https://github.com/plushvoxel/Project-Lernende-Agenten-Data-Generator/blob/master/frequency.tar?raw=true\", \"frequency.tar\")\n",
        "tar = taropen(\"frequency.tar\")\n",
        "\n",
        "data = dict()\n",
        "MODKEY = \"mod\"\n",
        "\n",
        "for member in tar.getmembers():\n",
        "  modulation = member.name.split('_')[0]\n",
        "  if modulation == \"am\":\n",
        "    modulation = 0\n",
        "  else:\n",
        "    modulation = 1\n",
        "  if not MODKEY in data:\n",
        "    data[MODKEY] = [modulation]\n",
        "  else:\n",
        "    data[MODKEY].append(modulation)\n",
        "  with tar.extractfile(member) as f:\n",
        "    buffer = f.read()\n",
        "    num_floats = len(buffer)//4\n",
        "    floats = unpack(\"f\"*num_floats, buffer)\n",
        "    i = floats[0::2]\n",
        "    q = floats[1::2]\n",
        "    for j in range(len(i)):\n",
        "      ikey = \"i{:05d}\".format(j)\n",
        "      qkey = \"q{:05d}\".format(j)\n",
        "      if not ikey in data:\n",
        "        data[ikey] = [i[j]]\n",
        "      else:\n",
        "        data[ikey].append(i[j])\n",
        "      if not qkey in data:\n",
        "        data[qkey] = [q[j]]\n",
        "      else:\n",
        "        data[qkey].append(q[j])        \n",
        "signal_dataframe = pd.DataFrame(data=data)\n",
        "signal_dataframeReal = signal_dataframe.copy()\n",
        "signal_dataframe = signal_dataframe.reindex(np.random.permutation(signal_dataframe.index))\n",
        "print(signal_dataframe)"
      ],
      "execution_count": 30,
      "outputs": [
        {
          "output_type": "stream",
          "text": [
            "      i00000  i00001  i00002  i00003  i00004  i00005  i00006  i00007  i00008  \\\n",
            "726    -91.9    -1.0    40.2  -100.4   155.6  -123.7    57.6   -30.2    23.9   \n",
            "1998     0.8    -0.7     0.7    -0.8     0.8    -0.6     0.4    -0.1    -0.4   \n",
            "1631     0.0    -0.0    -0.4     0.9    -0.8     0.5    -0.7     0.7    -0.2   \n",
            "1827    -0.2     0.3    -0.3     0.2    -0.2     0.3     0.0    -0.4     0.5   \n",
            "1050    -0.1    -0.0    -0.0     0.1    -0.1     0.1    -0.1     0.1    -0.1   \n",
            "...      ...     ...     ...     ...     ...     ...     ...     ...     ...   \n",
            "1225    -0.2     0.2    -0.2     0.1     0.1    -0.1    -0.0     0.1    -0.0   \n",
            "14      -0.2     0.1    -0.0    -0.0     0.0     0.1    -0.2     0.3    -0.3   \n",
            "166      0.1     0.1    -0.1    -7.3    59.2  -158.3   187.7  -102.4    22.3   \n",
            "244     -0.4    -2.6    33.3  -109.3   153.1   -99.3    27.2    -2.1     0.0   \n",
            "467    142.5   -97.9    51.4  -108.4   192.4  -161.0    64.9   -39.5    72.6   \n",
            "\n",
            "      i00009   ...    q02038  q02039  q02040  q02041  q02042  q02043  q02044  \\\n",
            "726    -25.0   ...       6.1    -8.0    22.9   -37.5    53.1   -92.0   105.6   \n",
            "1998     0.6   ...      -0.3     0.5    -0.7     0.9    -1.0     0.8    -0.6   \n",
            "1631    -0.1   ...       0.3    -0.1    -0.2     0.3    -0.3    -0.0     0.5   \n",
            "1827    -0.5   ...       0.4    -0.4     0.4    -0.2    -0.1     0.5    -0.7   \n",
            "1050     0.1   ...      -0.0     0.1    -0.1     0.1     0.0    -0.2     0.4   \n",
            "...      ...   ...       ...     ...     ...     ...     ...     ...     ...   \n",
            "1225    -0.0   ...       2.3    -2.5     1.2    -0.2     0.0    -0.1     0.1   \n",
            "14       0.2   ...      -0.2     0.1     0.1    -0.1     0.0     0.1    -0.2   \n",
            "166     -1.0   ...      -0.2    -0.3    10.7   -49.7    91.1   -76.7    28.7   \n",
            "244     -2.1   ...       0.1     0.1    -0.2    -1.7    26.0   -95.8   147.8   \n",
            "467    -74.4   ...      28.0   -60.6    59.3   -34.2    67.7  -170.7   203.8   \n",
            "\n",
            "      q02045  q02046  q02047  \n",
            "726    -32.4   -66.5   110.9  \n",
            "1998     0.5    -0.4     0.1  \n",
            "1631    -0.7     0.3     0.1  \n",
            "1827     0.9    -0.9     0.5  \n",
            "1050    -0.5     0.5    -0.3  \n",
            "...      ...     ...     ...  \n",
            "1225     0.0    -0.1     0.0  \n",
            "14       0.1     0.1    -0.2  \n",
            "166     -3.7     0.2    -0.2  \n",
            "244   -105.5    32.3    -3.0  \n",
            "467   -116.2    72.6  -166.4  \n",
            "\n",
            "[2040 rows x 4097 columns]\n"
          ],
          "name": "stdout"
        }
      ]
    },
    {
      "metadata": {
        "id": "7wSAb_bntTZ-",
        "colab_type": "code",
        "colab": {}
      },
      "cell_type": "code",
      "source": [
        "def parse_labels_and_features(dataset):\n",
        "  \"\"\"Extracts labels and features.\n",
        "  \n",
        "  This is a good place to scale or transform the features if needed.\n",
        "  \n",
        "  Args:\n",
        "    dataset: A Pandas `Dataframe`, containing the label on the first column and\n",
        "      monochrome pixel values on the remaining columns, in row major order.\n",
        "  Returns:\n",
        "    A `tuple` `(labels, features)`:\n",
        "      labels: A Pandas `Series`.\n",
        "      features: A Pandas `DataFrame`.\n",
        "  \"\"\"\n",
        "  labels = dataset[MODKEY]\n",
        "\n",
        "  # DataFrame.loc index ranges are inclusive at both ends.\n",
        "  features = dataset.iloc[:,1:4097]\n",
        "  return labels, features"
      ],
      "execution_count": 0,
      "outputs": []
    },
    {
      "metadata": {
        "id": "9b--AVj2XPs3",
        "colab_type": "code",
        "colab": {}
      },
      "cell_type": "code",
      "source": [
        "training_targets, training_examples = parse_labels_and_features(signal_dataframe[0:training_set_size])"
      ],
      "execution_count": 0,
      "outputs": []
    },
    {
      "metadata": {
        "id": "1qhy5_wDblQC",
        "colab_type": "code",
        "colab": {
          "base_uri": "https://localhost:8080/",
          "height": 901
        },
        "outputId": "8eae3976-472d-4a0e-c0cb-9004719c7f42"
      },
      "cell_type": "code",
      "source": [
        "validation_targets, validation_examples = parse_labels_and_features(signal_dataframe[training_set_size:(training_set_size+validating_set_size)])\n",
        "print(validation_targets)\n",
        "print(validation_examples)"
      ],
      "execution_count": 33,
      "outputs": [
        {
          "output_type": "stream",
          "text": [
            "874     1\n",
            "1599    0\n",
            "1323    0\n",
            "216     1\n",
            "791     1\n",
            "       ..\n",
            "1225    0\n",
            "14      1\n",
            "166     1\n",
            "244     1\n",
            "467     1\n",
            "Name: mod, Length: 1016, dtype: int64\n",
            "      i00001  i00002  i00003  i00004  i00005  i00006  i00007  i00008  i00009  \\\n",
            "874   -269.7   210.6  -147.5    70.1   -16.4   -26.1    51.0   -36.0    12.9   \n",
            "1599     0.1    -0.1    -0.0     0.1    -0.1     0.0     0.0    -0.1     0.1   \n",
            "1323    -0.2     0.1     0.2    -0.3     0.5    -0.6     0.5    -0.2     0.0   \n",
            "216     -0.1     1.2    -8.1    21.0   -24.4    13.0    -2.8     0.2     0.0   \n",
            "791    209.5  -179.1   137.6   -35.8   -41.2    53.6   -52.4    40.9     5.3   \n",
            "...      ...     ...     ...     ...     ...     ...     ...     ...     ...   \n",
            "1225     0.2    -0.2     0.1     0.1    -0.1    -0.0     0.1    -0.0    -0.0   \n",
            "14       0.1    -0.0    -0.0     0.0     0.1    -0.2     0.3    -0.3     0.2   \n",
            "166      0.1    -0.1    -7.3    59.2  -158.3   187.7  -102.4    22.3    -1.0   \n",
            "244     -2.6    33.3  -109.3   153.1   -99.3    27.2    -2.1     0.0    -2.1   \n",
            "467    -97.9    51.4  -108.4   192.4  -161.0    64.9   -39.5    72.6   -74.4   \n",
            "\n",
            "      i00010   ...    q02038  q02039  q02040  q02041  q02042  q02043  q02044  \\\n",
            "874    -14.2   ...     -13.3    10.4   -27.1    33.1     6.5   -62.8    95.0   \n",
            "1599    -0.1   ...       0.1    -0.1     0.1    -0.1     0.2    -0.1    -0.1   \n",
            "1323    -0.1   ...      -0.0     0.0    -0.2     0.7    -1.0     0.7    -0.2   \n",
            "216     -0.1   ...      -0.0    -0.1    -0.6    17.6   -86.9   168.9  -150.6   \n",
            "791    -48.1   ...     -39.1     0.1    42.5   -54.5    58.9   -43.9   -55.1   \n",
            "...      ...   ...       ...     ...     ...     ...     ...     ...     ...   \n",
            "1225     0.0   ...       2.3    -2.5     1.2    -0.2     0.0    -0.1     0.1   \n",
            "14      -0.2   ...      -0.2     0.1     0.1    -0.1     0.0     0.1    -0.2   \n",
            "166     -0.1   ...      -0.2    -0.3    10.7   -49.7    91.1   -76.7    28.7   \n",
            "244     19.3   ...       0.1     0.1    -0.2    -1.7    26.0   -95.8   147.8   \n",
            "467     33.6   ...      28.0   -60.6    59.3   -34.2    67.7  -170.7   203.8   \n",
            "\n",
            "      q02045  q02046  q02047  \n",
            "874   -125.2   202.5  -373.9  \n",
            "1599     0.1     0.0    -0.2  \n",
            "1323     0.0     0.0     0.0  \n",
            "216     60.1    -8.5     0.3  \n",
            "791    188.0  -255.4   332.3  \n",
            "...      ...     ...     ...  \n",
            "1225     0.0    -0.1     0.0  \n",
            "14       0.1     0.1    -0.2  \n",
            "166     -3.7     0.2    -0.2  \n",
            "244   -105.5    32.3    -3.0  \n",
            "467   -116.2    72.6  -166.4  \n",
            "\n",
            "[1016 rows x 4096 columns]\n"
          ],
          "name": "stdout"
        }
      ]
    },
    {
      "metadata": {
        "id": "ni0S6zHcTb04",
        "colab_type": "code",
        "colab": {}
      },
      "cell_type": "code",
      "source": [
        "def construct_feature_columns():\n",
        "  \"\"\"Construct the TensorFlow Feature Columns.\n",
        "\n",
        "  Returns:\n",
        "    A set of feature columns\n",
        "  \"\"\" \n",
        "  \n",
        "  # There are 784 pixels in each image.\n",
        "  return set([tf.feature_column.numeric_column('features', shape=4096)])"
      ],
      "execution_count": 0,
      "outputs": []
    },
    {
      "metadata": {
        "id": "Z9SJsFstlIvj",
        "colab_type": "code",
        "colab": {}
      },
      "cell_type": "code",
      "source": [
        "def create_training_input_fn(features, labels, batch_size, num_epochs=None, shuffle=True, repeat_count=1):\n",
        "  \"\"\"A custom input_fn for sending MNIST data to the estimator for training.\n",
        "\n",
        "  Args:\n",
        "    features: The training features.\n",
        "    labels: The training labels.\n",
        "    batch_size: Batch size to use during training.\n",
        "\n",
        "  Returns:\n",
        "    A function that returns batches of training features and labels during\n",
        "    training.\n",
        "  \"\"\"\n",
        "  def _input_fn(num_epochs=None, shuffle=True):\n",
        "    # Input pipelines are reset with each call to .train(). To ensure model\n",
        "    # gets a good sampling of data, even when number of steps is small, we \n",
        "    # shuffle all the data before creating the Dataset object\n",
        "    idx = np.random.permutation(features.index)\n",
        "    raw_features = {\"features\":features.reindex(idx)}\n",
        "    raw_targets = np.array(labels[idx])\n",
        "   \n",
        "    ds = Dataset.from_tensor_slices((raw_features,raw_targets)) # warning: 2GB limit\n",
        "    ds = ds.batch(batch_size).repeat(repeat_count)\n",
        "    \n",
        "    if shuffle:\n",
        "      ds = ds.shuffle(10000)\n",
        "    \n",
        "    # Return the next batch of data.\n",
        "    feature_batch, label_batch = ds.make_one_shot_iterator().get_next()\n",
        "    return feature_batch, label_batch\n",
        "\n",
        "  return _input_fn"
      ],
      "execution_count": 0,
      "outputs": []
    },
    {
      "metadata": {
        "id": "Ic0q5BbruXCf",
        "colab_type": "code",
        "colab": {}
      },
      "cell_type": "code",
      "source": [
        "def create_predict_input_fn(features, labels, batch_size, repeat_count = 1):\n",
        "  \"\"\"A custom input_fn for sending mnist data to the estimator for predictions.\n",
        "\n",
        "  Args:\n",
        "    features: The features to base predictions on.\n",
        "    labels: The labels of the prediction examples.\n",
        "\n",
        "  Returns:\n",
        "    A function that returns features and labels for predictions.\n",
        "  \"\"\"\n",
        "  def _input_fn():\n",
        "    raw_features = {\"features\": features.values}\n",
        "    raw_targets = np.array(labels)\n",
        "    \n",
        "    ds = Dataset.from_tensor_slices((raw_features, raw_targets)) # warning: 2GB limit\n",
        "    ds = ds.batch(batch_size).repeat(repeat_count)\n",
        "    \n",
        "        \n",
        "    # Return the next batch of data.\n",
        "    feature_batch, label_batch = ds.make_one_shot_iterator().get_next()\n",
        "    return feature_batch, label_batch\n",
        "\n",
        "  return _input_fn"
      ],
      "execution_count": 0,
      "outputs": []
    },
    {
      "metadata": {
        "id": "cFNtm5gdubyV",
        "colab_type": "code",
        "colab": {}
      },
      "cell_type": "code",
      "source": [
        "test_targets, test_examples = parse_labels_and_features(signal_dataframe)"
      ],
      "execution_count": 0,
      "outputs": []
    },
    {
      "metadata": {
        "id": "U52Ychv9KNeH",
        "colab_type": "code",
        "colab": {}
      },
      "cell_type": "code",
      "source": [
        "def train_nn_classification_model(\n",
        "    learning_rate,\n",
        "    steps,\n",
        "    batch_size,\n",
        "    hidden_units,\n",
        "    training_examples,\n",
        "    training_targets,\n",
        "    validation_examples,\n",
        "    validation_targets):\n",
        "  \"\"\"Trains a neural network classification model for the MNIST digits dataset.\n",
        "  \n",
        "  In addition to training, this function also prints training progress information,\n",
        "  a plot of the training and validation loss over time, as well as a confusion\n",
        "  matrix.\n",
        "  \n",
        "  Args:\n",
        "    learning_rate: An `int`, the learning rate to use.\n",
        "    steps: A non-zero `int`, the total number of training steps. A training step\n",
        "      consists of a forward and backward pass using a single batch.\n",
        "    batch_size: A non-zero `int`, the batch size.\n",
        "    hidden_units: A `list` of int values, specifying the number of neurons in each layer.\n",
        "    training_examples: A `DataFrame` containing the training features.\n",
        "    training_targets: A `DataFrame` containing the training labels.\n",
        "    validation_examples: A `DataFrame` containing the validation features.\n",
        "    validation_targets: A `DataFrame` containing the validation labels.\n",
        "      \n",
        "  Returns:\n",
        "    The trained `DNNClassifier` object.\n",
        "  \"\"\"\n",
        "\n",
        "  periods = 10\n",
        "  # Caution: input pipelines are reset with each call to train. \n",
        "  # If the number of steps is small, your model may never see most of the data.  \n",
        "  # So with multiple `.train` calls like this you may want to control the length \n",
        "  # of training with num_epochs passed to the input_fn. Or, you can do a really-big shuffle, \n",
        "  # or since it's in-memory data, shuffle all the data in the `input_fn`.\n",
        "  steps_per_period = steps / periods  \n",
        "  # Create the input functions.\n",
        "  predict_training_input_fn = create_predict_input_fn(\n",
        "    training_examples, training_targets, batch_size)\n",
        "  predict_validation_input_fn = create_predict_input_fn(\n",
        "    validation_examples, validation_targets, batch_size)\n",
        "  training_input_fn = create_training_input_fn(\n",
        "    training_examples, training_targets, batch_size)\n",
        "  \n",
        "  # Create the input functions.\n",
        "  predict_training_input_fn = create_predict_input_fn(\n",
        "    training_examples, training_targets, batch_size)\n",
        "  predict_validation_input_fn = create_predict_input_fn(\n",
        "    validation_examples, validation_targets, batch_size)\n",
        "  training_input_fn = create_training_input_fn(\n",
        "    training_examples, training_targets, batch_size)\n",
        "  \n",
        "  # Create feature columns.\n",
        "  feature_columns = [tf.feature_column.numeric_column('features', shape=4096)]\n",
        "\n",
        "  # Create a DNNClassifier object.\n",
        "  my_optimizer = tf.train.AdagradOptimizer(learning_rate=learning_rate)\n",
        "  my_optimizer = tf.contrib.estimator.clip_gradients_by_norm(my_optimizer, 5.0)\n",
        "  classifier = tf.estimator.DNNClassifier(\n",
        "      feature_columns=feature_columns,\n",
        "      n_classes=2,\n",
        "      hidden_units=hidden_units,\n",
        "      optimizer=my_optimizer,\n",
        "      config=tf.contrib.learn.RunConfig(keep_checkpoint_max=1)\n",
        "  )\n",
        "\n",
        "  # Train the model, but do so inside a loop so that we can periodically assess\n",
        "  # loss metrics.\n",
        "  print(\"Training model...\")\n",
        "  print(\"LogLoss error (on validation data):\")\n",
        "  training_errors = []\n",
        "  validation_errors = []\n",
        "  for period in range (0, periods):\n",
        "    # Train the model, starting from the prior state.\n",
        "    classifier.train(\n",
        "        input_fn=training_input_fn,\n",
        "        steps=steps_per_period\n",
        "    )\n",
        "  \n",
        "    # Take a break and compute probabilities.\n",
        "    training_predictions = list(classifier.predict(input_fn=predict_training_input_fn))\n",
        "    training_probabilities = np.array([item['probabilities'] for item in training_predictions])\n",
        "    training_pred_class_id = np.array([item['class_ids'][0] for item in training_predictions])\n",
        "    training_pred_one_hot = tf.keras.utils.to_categorical(training_pred_class_id,2)\n",
        "        \n",
        "    validation_predictions = list(classifier.predict(input_fn=predict_validation_input_fn))\n",
        "    validation_probabilities = np.array([item['probabilities'] for item in validation_predictions])    \n",
        "    validation_pred_class_id = np.array([item['class_ids'][0] for item in validation_predictions])\n",
        "    validation_pred_one_hot = tf.keras.utils.to_categorical(validation_pred_class_id,2)    \n",
        "    \n",
        "    # Compute training and validation errors.\n",
        "    training_log_loss = metrics.log_loss(training_targets, training_pred_one_hot)\n",
        "    validation_log_loss = metrics.log_loss(validation_targets, validation_pred_one_hot)\n",
        "    # Occasionally print the current loss.\n",
        "    print(\"  period %02d : %0.2f\" % (period, validation_log_loss))\n",
        "    # Add the loss metrics from this period to our list.\n",
        "    training_errors.append(training_log_loss)\n",
        "    validation_errors.append(validation_log_loss)\n",
        "  print(\"Model training finished.\")\n",
        "  # Remove event files to save disk space.\n",
        "  _ = map(os.remove, glob.glob(os.path.join(classifier.model_dir, 'events.out.tfevents*')))\n",
        "  \n",
        "  # Calculate final predictions (not probabilities, as above).\n",
        "  final_predictions = classifier.predict(input_fn=predict_validation_input_fn)\n",
        "  final_predictions = np.array([item['class_ids'][0] for item in final_predictions])\n",
        "  \n",
        "  \n",
        "  accuracy = metrics.accuracy_score(validation_targets, final_predictions)\n",
        "  print(\"Final accuracy (on validation data): %0.2f\" % accuracy)\n",
        "\n",
        "  # Output a graph of loss metrics over periods.\n",
        "  plt.ylabel(\"LogLoss\")\n",
        "  plt.xlabel(\"Periods\")\n",
        "  plt.title(\"LogLoss vs. Periods\")\n",
        "  plt.plot(training_errors, label=\"training\")\n",
        "  plt.plot(validation_errors, label=\"validation\")\n",
        "  plt.legend()\n",
        "  plt.show()\n",
        "  \n",
        "  # Output a plot of the confusion matrix.\n",
        "  cm = metrics.confusion_matrix(validation_targets, final_predictions)\n",
        "  # Normalize the confusion matrix by row (i.e by the number of samples\n",
        "  # in each class).\n",
        "  cm_normalized = cm.astype(\"float\") / cm.sum(axis=1)[:, np.newaxis]\n",
        "  ax = sns.heatmap(cm_normalized, cmap=\"bone_r\")\n",
        "  ax.set_aspect(1)\n",
        "  plt.title(\"Confusion matrix\")\n",
        "  plt.ylabel(\"True label\")\n",
        "  plt.xlabel(\"Predicted label\")\n",
        "  plt.show()\n",
        "\n",
        "  return classifier"
      ],
      "execution_count": 0,
      "outputs": []
    },
    {
      "metadata": {
        "id": "IjkpSqmxqnSM",
        "colab_type": "code",
        "outputId": "4889ad7f-fa35-4090-e176-5566137337f7",
        "colab": {
          "base_uri": "https://localhost:8080/",
          "height": 973
        }
      },
      "cell_type": "code",
      "source": [
        "nn_classification = train_nn_classification_model(\n",
        "    learning_rate=learning_rate,\n",
        "    steps=steps,\n",
        "    batch_size=batch_size,\n",
        "    hidden_units=model,\n",
        "    training_examples=training_examples,\n",
        "    training_targets=training_targets,\n",
        "    validation_examples=validation_examples,\n",
        "    validation_targets=validation_targets)"
      ],
      "execution_count": 42,
      "outputs": [
        {
          "output_type": "stream",
          "text": [
            "Training model...\n",
            "LogLoss error (on validation data):\n",
            "  period 00 : 3.23\n",
            "  period 01 : 2.48\n",
            "  period 02 : 1.53\n",
            "  period 03 : 1.22\n",
            "  period 04 : 0.61\n",
            "  period 05 : 0.37\n",
            "  period 06 : 2.65\n",
            "  period 07 : 0.51\n",
            "  period 08 : 0.54\n",
            "  period 09 : 0.61\n",
            "Model training finished.\n",
            "Final accuracy (on validation data): 0.98\n"
          ],
          "name": "stdout"
        },
        {
          "output_type": "display_data",
          "data": {
            "image/png": "[encoded data removed]",
            "text/plain": [
              "<matplotlib.figure.Figure at 0x7fa9a61a1c50>"
            ]
          },
          "metadata": {
            "tags": []
          }
        },
        {
          "output_type": "display_data",
          "data": {
            "image/png": "[encoded data removed]",
            "text/plain": [
              "<matplotlib.figure.Figure at 0x7fa9ba44bc50>"
            ]
          },
          "metadata": {
            "tags": []
          }
        }
      ]
    }
  ]
}