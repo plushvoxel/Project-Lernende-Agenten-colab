{
  "nbformat": 4,
  "nbformat_minor": 0,
  "metadata": {
    "colab": {
      "name": "LSTM test.ipynb",
      "version": "0.3.2",
      "provenance": [],
      "collapsed_sections": [],
      "include_colab_link": true
    },
    "kernelspec": {
      "name": "python3",
      "display_name": "Python 3"
    }
  },
  "cells": [
    {
      "cell_type": "markdown",
      "metadata": {
        "id": "view-in-github",
        "colab_type": "text"
      },
      "source": [
        "<a href=\"https://colab.research.google.com/github/plushvoxel/Project-Lernende-Agenten-colab/blob/master/LSTM_test.ipynb\" target=\"_parent\"><img src=\"https://colab.research.google.com/assets/colab-badge.svg\" alt=\"Open In Colab\"/></a>"
      ]
    },
    {
      "metadata": {
        "id": "DVRbIe9MaIbo",
        "colab_type": "code",
        "colab": {}
      },
      "cell_type": "code",
      "source": [
        "import random\n",
        "import numpy as np\n",
        "import tensorflow as tf\n",
        "from tarfile import open as taropen\n",
        "from urllib import request\n",
        "from struct import unpack\n",
        "from tensorflow.keras.models import Sequential\n",
        "from tensorflow.keras.layers import Dense, Dropout, LSTM"
      ],
      "execution_count": 0,
      "outputs": []
    },
    {
      "metadata": {
        "id": "yUWryhOraM3Z",
        "colab_type": "code",
        "colab": {}
      },
      "cell_type": "code",
      "source": [
        "def create_data(trainP = 60, valP= 20, testP = 20):\n",
        "    pre: trainP + valP + testP <= 100\n",
        "    DataBaseURL= \"https://marble.adhara.uberspace.de/\"\n",
        "    Classes = [\"fm\", \"pager\", \"smartwares\"]\n",
        "    data = []\n",
        "    test = 0\n",
        "\n",
        "    for modulation in Classes:\n",
        "        filename = \"{}.tar\".format(modulation)\n",
        "        request.urlretrieve(\"https://marble.adhara.uberspace.de/{}_512.tar\".format(modulation), filename)\n",
        "        tar = taropen(filename)\n",
        "        class_label = Classes.index(modulation)\n",
        "        for member in tar.getmembers():\n",
        "            test = test + 1\n",
        "            with tar.extractfile(member) as f:\n",
        "                sample = []\n",
        "                buffer = f.read()\n",
        "                num_floats = len(buffer)//4\n",
        "                floats = unpack(\"f\"*num_floats, buffer)\n",
        "                i = floats[0::2][::4]\n",
        "                q = floats[1::2][::4]\n",
        "                for j in range(min(len(i), len(q))):\n",
        "                    #here happens the scaling or whatever you want\n",
        "                    sample.append([i[j], q[j]])\n",
        "                #here happens some cross_feature if you want. just append it to the sample\n",
        "                \n",
        "                data.append([np.array(sample), class_label])\n",
        "\n",
        "    random.shuffle(data)\n",
        "    #split all data into train, val and test\n",
        "    size =len(data)\n",
        "    trainSize = (size * trainP)//100\n",
        "    valSize = (size * valP)//100\n",
        "    testSize = (size * testP)//100\n",
        "    train = data[:trainSize]\n",
        "    val = data[trainSize: trainSize + valSize]\n",
        "    test = data[trainSize + valSize: trainSize + valSize + testSize]\n",
        "    x_train = []\n",
        "    y_train = []\n",
        "    x_val = []\n",
        "    y_val = []\n",
        "    x_test = []\n",
        "    y_test = []\n",
        "    for sample, target in train:\n",
        "      x_train.append(sample)\n",
        "      y_train.append(target)\n",
        "    for sample, target in val:\n",
        "      x_val.append(sample)\n",
        "      y_val.append(target)\n",
        "    for sample, target in test:\n",
        "      x_test.append(sample)\n",
        "      y_test.append(target)\n",
        "    \n",
        "    \n",
        "    return np.array(x_train), np.array(x_val), np.array(x_test), y_train, y_val, y_test "
      ],
      "execution_count": 0,
      "outputs": []
    },
    {
      "metadata": {
        "id": "si47EucfaNMn",
        "colab_type": "code",
        "colab": {}
      },
      "cell_type": "code",
      "source": [
        "def train_model(model, x_train, y_train, x_val, y_val):\n",
        "    model.fit(x_train, y_train, epochs = 1, validation_data = (x_val, y_val))"
      ],
      "execution_count": 0,
      "outputs": []
    },
    {
      "metadata": {
        "id": "rsOuhV6XaNG_",
        "colab_type": "code",
        "colab": {}
      },
      "cell_type": "code",
      "source": [
        "def create_model(x_train, classesAmount = 3):\n",
        "    opt = tf.keras.optimizers.Adam(lr=0.001, decay=1e-6)\n",
        "    model = Sequential()\n",
        "    shape = x_train.shape[1:]\n",
        "    print(shape)\n",
        "    model.add(LSTM(128, input_shape=shape, activation='relu', return_sequences=True))\n",
        "    model.add(Dropout(0.2))\n",
        "\n",
        "    model.add(LSTM(128, activation='relu'))\n",
        "    model.add(Dropout(0.1))\n",
        "\n",
        "    model.add(Dense(32, activation='relu'))\n",
        "    model.add(Dropout(0.2))\n",
        "\n",
        "    model.add(Dense(classesAmount, activation='softmax'))\n",
        "\n",
        "    model.compile(loss='sparse_categorical_crossentropy', optimizer=opt, metrics=['accuracy'])\n",
        "\n",
        "    return model"
      ],
      "execution_count": 0,
      "outputs": []
    },
    {
      "metadata": {
        "id": "JCuaQ689u7au",
        "colab_type": "code",
        "colab": {}
      },
      "cell_type": "code",
      "source": [
        "x_train, x_val, _x_test, y_train, y_val, y_test = create_data()"
      ],
      "execution_count": 0,
      "outputs": []
    },
    {
      "metadata": {
        "id": "WyQAs9ebaNSh",
        "colab_type": "code",
        "outputId": "fb779e18-fb72-48e8-a2f4-ccbf2605c5a1",
        "colab": {
          "base_uri": "https://localhost:8080/",
          "height": 145
        }
      },
      "cell_type": "code",
      "source": [
        "\n",
        "model = create_model(x_train)\n",
        "train_model(model, x_train, y_train, x_val, y_val)"
      ],
      "execution_count": 6,
      "outputs": [
        {
          "output_type": "stream",
          "text": [
            "(19704, 128, 2)\n",
            "(6568, 128, 2)\n",
            "(6568, 128, 2)\n",
            "(128, 2)\n",
            "Train on 19704 samples, validate on 6568 samples\n",
            "Epoch 1/1\n",
            "19704/19704 [==============================] - 468s 24ms/step - loss: 6.1120 - acc: 0.4940 - val_loss: 7.3070 - val_acc: 0.5359\n"
          ],
          "name": "stdout"
        }
      ]
    }
  ]
}