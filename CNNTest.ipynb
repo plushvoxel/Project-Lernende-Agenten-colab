{
  "nbformat": 4,
  "nbformat_minor": 0,
  "metadata": {
    "colab": {
      "name": "CNNTest.ipynb",
      "version": "0.3.2",
      "provenance": [],
      "collapsed_sections": [],
      "include_colab_link": true
    },
    "kernelspec": {
      "name": "python3",
      "display_name": "Python 3"
    }
  },
  "cells": [
    {
      "cell_type": "markdown",
      "metadata": {
        "id": "view-in-github",
        "colab_type": "text"
      },
      "source": [
        "<a href=\"https://colab.research.google.com/github/plushvoxel/Project-Lernende-Agenten-colab/blob/master/CNNTest.ipynb\" target=\"_parent\"><img src=\"https://colab.research.google.com/assets/colab-badge.svg\" alt=\"Open In Colab\"/></a>"
      ]
    },
    {
      "metadata": {
        "id": "bR4Ed0mOCMzd",
        "colab_type": "code",
        "colab": {}
      },
      "cell_type": "code",
      "source": [
        "import random\n",
        "import numpy as np\n",
        "import tensorflow as tf\n",
        "from tarfile import open as taropen\n",
        "from urllib import request\n",
        "from struct import unpack\n",
        "from tensorflow.keras.models import Sequential\n",
        "from tensorflow.keras.layers import Dense, Dropout, LSTM"
      ],
      "execution_count": 0,
      "outputs": []
    },
    {
      "metadata": {
        "id": "iu2XmrW_CWTD",
        "colab_type": "code",
        "colab": {}
      },
      "cell_type": "code",
      "source": [
        "def create_data(trainP = 60, valP= 20, testP = 20):\n",
        "    pre: trainP + valP + testP <= 100\n",
        "    DataBaseURL= \"https://marble.adhara.uberspace.de/\"\n",
        "    Classes = [\"fm\", \"pager\", \"smartwares\"]\n",
        "    data = []\n",
        "    normalisationFactor = 100\n",
        "    test = 0\n",
        "\n",
        "    for modulation in Classes:\n",
        "        filename = \"{}.tar\".format(modulation)\n",
        "        request.urlretrieve(\"https://marble.adhara.uberspace.de/{}_512.tar\".format(modulation), filename)\n",
        "        tar = taropen(filename)\n",
        "        class_label = Classes.index(modulation)\n",
        "        for member in tar.getmembers():\n",
        "            test = test + 1\n",
        "            with tar.extractfile(member) as f:\n",
        "                sample = []\n",
        "                buffer = f.read()\n",
        "                num_floats = len(buffer)//4\n",
        "                floats = unpack(\"f\"*num_floats, buffer)\n",
        "                i = floats[0::2][::4]\n",
        "                q = floats[1::2][::4]\n",
        "                for j in range(min(len(i), len(q))):\n",
        "                    #here happens the scaling or whatever you want\n",
        "                    sample.append([i[j]/normalisationFactor, q[j]/normalisationFactor])\n",
        "                #here happens some cross_feature if you want. just append it to the sample\n",
        "                \n",
        "                data.append([np.array(sample), class_label])\n",
        "\n",
        "    random.shuffle(data)\n",
        "    #split all data into train, val and test\n",
        "    size =len(data)\n",
        "    trainSize = (size * trainP)//100\n",
        "    valSize = (size * valP)//100\n",
        "    testSize = (size * testP)//100\n",
        "    train = data[:trainSize]\n",
        "    val = data[trainSize: trainSize + valSize]\n",
        "    test = data[trainSize + valSize: trainSize + valSize + testSize]\n",
        "    x_train = []\n",
        "    y_train = []\n",
        "    x_val = []\n",
        "    y_val = []\n",
        "    x_test = []\n",
        "    y_test = []\n",
        "    for sample, target in train:\n",
        "      x_train.append(sample)\n",
        "      y_train.append(target)\n",
        "    for sample, target in val:\n",
        "      x_val.append(sample)\n",
        "      y_val.append(target)\n",
        "    for sample, target in test:\n",
        "      x_test.append(sample)\n",
        "      y_test.append(target)\n",
        "    \n",
        "    \n",
        "    return np.array(x_train), np.array(x_val), np.array(x_test), y_train, y_val, y_test "
      ],
      "execution_count": 0,
      "outputs": []
    },
    {
      "metadata": {
        "id": "3FWk37YIEMM3",
        "colab_type": "code",
        "colab": {}
      },
      "cell_type": "code",
      "source": [
        "x_train, x_val, x_test, ytrain, y_val, y_test = create_data()\n"
      ],
      "execution_count": 0,
      "outputs": []
    },
    {
      "metadata": {
        "id": "b75z5VZVExlH",
        "colab_type": "code",
        "colab": {
          "base_uri": "https://localhost:8080/",
          "height": 34
        },
        "outputId": "978618b6-2f92-4b11-b64a-e4f1b900dcec"
      },
      "cell_type": "code",
      "source": [
        "print(np.max(x_train[0]))"
      ],
      "execution_count": 32,
      "outputs": [
        {
          "output_type": "stream",
          "text": [
            "0.3398982238769531\n"
          ],
          "name": "stdout"
        }
      ]
    },
    {
      "metadata": {
        "id": "Gm-G_8kwGXo1",
        "colab_type": "code",
        "colab": {
          "base_uri": "https://localhost:8080/",
          "height": 34
        },
        "outputId": "d083ed19-f236-49d4-8605-490f8e99f53b"
      },
      "cell_type": "code",
      "source": [
        "print(x_train.shape)"
      ],
      "execution_count": 33,
      "outputs": [
        {
          "output_type": "stream",
          "text": [
            "(19704, 128, 2)\n"
          ],
          "name": "stdout"
        }
      ]
    },
    {
      "metadata": {
        "id": "y69WTN-SGkEn",
        "colab_type": "code",
        "colab": {}
      },
      "cell_type": "code",
      "source": [
        "training_iters = 200 \n",
        "learning_rate = 0.001 \n",
        "batch_size = 128\n",
        "\n",
        "#data input (img shape: 128*2)\n",
        "n_input_1 = 128\n",
        "n_input_2 = 2\n",
        "\n",
        "# data total classes (0-9 digits)\n",
        "n_classes = 3\n",
        "\n",
        "#both placeholders are of type float\n",
        "x = tf.placeholder(\"float\", [None, n_input_1,n_input_2,1])\n",
        "y = tf.placeholder(\"float\", [None, n_classes])"
      ],
      "execution_count": 0,
      "outputs": []
    },
    {
      "metadata": {
        "id": "-fX3aLxcHkyd",
        "colab_type": "code",
        "colab": {}
      },
      "cell_type": "code",
      "source": [
        "def conv2d(x, W, b, strides=1):\n",
        "    # Conv2D wrapper, with bias and relu activation\n",
        "    x = tf.nn.conv2d(x, W, strides=[1, strides, strides, 1], padding='SAME')\n",
        "    x = tf.nn.bias_add(x, b)\n",
        "    return tf.nn.relu(x) \n",
        "\n",
        "def maxpool2d(x, k=2):\n",
        "    return tf.nn.max_pool(x, ksize=[1, k, k, 1], strides=[1, k, k, 1],padding='SAME')"
      ],
      "execution_count": 0,
      "outputs": []
    }
  ]
}