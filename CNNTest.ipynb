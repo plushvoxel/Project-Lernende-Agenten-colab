{
  "nbformat": 4,
  "nbformat_minor": 0,
  "metadata": {
    "colab": {
      "name": "CNNTest.ipynb",
      "version": "0.3.2",
      "provenance": [],
      "collapsed_sections": [],
      "include_colab_link": true
    },
    "kernelspec": {
      "name": "python3",
      "display_name": "Python 3"
    }
  },
  "cells": [
    {
      "cell_type": "markdown",
      "metadata": {
        "id": "view-in-github",
        "colab_type": "text"
      },
      "source": [
        "<a href=\"https://colab.research.google.com/github/plushvoxel/Project-Lernende-Agenten-colab/blob/master/CNNTest.ipynb\" target=\"_parent\"><img src=\"https://colab.research.google.com/assets/colab-badge.svg\" alt=\"Open In Colab\"/></a>"
      ]
    },
    {
      "metadata": {
        "id": "bR4Ed0mOCMzd",
        "colab_type": "code",
        "colab": {}
      },
      "cell_type": "code",
      "source": [
        "import random\n",
        "import numpy as np\n",
        "import tensorflow as tf\n",
        "from tarfile import open as taropen\n",
        "from urllib import request\n",
        "from struct import unpack\n",
        "from tensorflow.keras.models import Sequential\n",
        "from tensorflow.keras.layers import Dense, Dropout, LSTM\n",
        "import matplotlib.pyplot as plt\n",
        "import os\n",
        "import datetime\n",
        "os.environ[\"CUDA_VISIBLE_DEVICES\"]=\"0\" #for training on gpu\n",
        "Classes = [\"fm\", \"pager\", \"smartwares\", \"no_signal\"]"
      ],
      "execution_count": 0,
      "outputs": []
    },
    {
      "metadata": {
        "id": "iu2XmrW_CWTD",
        "colab_type": "code",
        "colab": {}
      },
      "cell_type": "code",
      "source": [
        "def create_data():\n",
        "    DataBaseURL= \"http://computer-in.love/data/{}.tar\"\n",
        "    data = []\n",
        "    normalisationFactor = 100\n",
        "    test = 0\n",
        "\n",
        "    for modulation in Classes:\n",
        "        filename = \"{}.tar\".format(modulation)\n",
        "        request.urlretrieve(DataBaseURL.format(modulation), filename)\n",
        "        tar = taropen(filename)\n",
        "        class_label = [0]*len(Classes)\n",
        "        class_label[Classes.index(modulation)]=1\n",
        "        for member in tar.getmembers():\n",
        "            test = test + 1\n",
        "            with tar.extractfile(member) as f:\n",
        "                sample = []\n",
        "                buffer = f.read()\n",
        "                num_floats = len(buffer)//4\n",
        "                floats = unpack(\"f\"*num_floats, buffer)\n",
        "                i = floats[0::2]\n",
        "                q = floats[1::2]\n",
        "                for j in range(min(len(i), len(q))):\n",
        "                    #here happens the scaling or whatever you want\n",
        "                    sample.append([i[j]/normalisationFactor, q[j]/normalisationFactor])\n",
        "                #here happens some cross_feature if you want. just append it to the sample\n",
        "                \n",
        "                data.append([np.array(sample), np.array(class_label)])\n",
        "    random.shuffle(data)\n",
        "\n",
        "    return data"
      ],
      "execution_count": 0,
      "outputs": []
    },
    {
      "metadata": {
        "id": "U7KsvTqUHrV2",
        "colab_type": "code",
        "colab": {}
      },
      "cell_type": "code",
      "source": [
        "def get_data(data,trainP = 60, valP= 20, testP = 20):\n",
        "  pre: trainP + valP + testP <= 100\n",
        "  size =len(data)\n",
        "  trainSize = (size * trainP)//100\n",
        "  print(trainSize)\n",
        "  valSize = (size * valP)//100\n",
        "  print(valSize)\n",
        "  testSize = (size * testP)//100\n",
        "  print(testSize)\n",
        "  train = data[:trainSize]\n",
        "  val = data[trainSize: trainSize + valSize]\n",
        "  test = data[trainSize + valSize: trainSize + valSize + testSize]\n",
        "  x_train = []\n",
        "  y_train = []\n",
        "  x_val = []\n",
        "  y_val = []\n",
        "  x_test = []\n",
        "  y_test = []\n",
        "  for sample, target in train:\n",
        "    x_train.append(sample)\n",
        "    y_train.append(target)\n",
        "  for sample, target in val:\n",
        "    x_val.append(sample)\n",
        "    y_val.append(target)\n",
        "  for sample, target in test:\n",
        "    x_test.append(sample)\n",
        "    y_test.append(target)\n",
        "\n",
        "\n",
        "  return np.array(x_train), np.array(x_val), np.array(x_test), np.array(y_train), np.array(y_val), np.array(y_test) "
      ],
      "execution_count": 0,
      "outputs": []
    },
    {
      "metadata": {
        "id": "3FWk37YIEMM3",
        "colab_type": "code",
        "colab": {}
      },
      "cell_type": "code",
      "source": [
        "data= create_data()"
      ],
      "execution_count": 0,
      "outputs": []
    },
    {
      "metadata": {
        "id": "owYaB7RLIbLB",
        "colab_type": "code",
        "outputId": "0af18e41-c501-420f-a2f4-bde9a88085b9",
        "colab": {
          "base_uri": "https://localhost:8080/",
          "height": 72
        }
      },
      "cell_type": "code",
      "source": [
        "train_X, val_X, test_X, train_y, val_y, test_y = get_data(data)"
      ],
      "execution_count": 25,
      "outputs": [
        {
          "output_type": "stream",
          "text": [
            "23888\n",
            "7962\n",
            "7962\n"
          ],
          "name": "stdout"
        }
      ]
    },
    {
      "metadata": {
        "id": "b75z5VZVExlH",
        "colab_type": "code",
        "outputId": "1216fd24-abfd-4d20-f386-675614212ca2",
        "colab": {
          "base_uri": "https://localhost:8080/",
          "height": 54
        }
      },
      "cell_type": "code",
      "source": [
        "print(np.max(train_X[0]))\n",
        "print(val_X.shape)"
      ],
      "execution_count": 26,
      "outputs": [
        {
          "output_type": "stream",
          "text": [
            "0.4531311798095703\n",
            "(7962, 128, 2)\n"
          ],
          "name": "stdout"
        }
      ]
    },
    {
      "metadata": {
        "id": "Gm-G_8kwGXo1",
        "colab_type": "code",
        "colab": {}
      },
      "cell_type": "code",
      "source": [
        "train_X = train_X.reshape(-1, 128, 2, 1)\n",
        "test_X = test_X.reshape(-1,128,2,1)\n",
        "val_X = val_X.reshape(-1,128,2,1)"
      ],
      "execution_count": 0,
      "outputs": []
    },
    {
      "metadata": {
        "id": "y69WTN-SGkEn",
        "colab_type": "code",
        "colab": {}
      },
      "cell_type": "code",
      "source": [
        "training_iters = 100 \n",
        "learning_rate = 0.001 \n",
        "batch_size = 50\n",
        "#data input (img shape: 128*2)\n",
        "n_input_1 = 128\n",
        "n_input_2 = 2\n",
        "\n",
        "# data total classes (0-9 digits)\n",
        "n_classes = 4\n",
        "tf.reset_default_graph()\n",
        "#both placeholders are of type float\n",
        "x = tf.placeholder(\"float\", [None, n_input_1,n_input_2,1])\n",
        "y = tf.placeholder(\"float\", [None, n_classes])"
      ],
      "execution_count": 0,
      "outputs": []
    },
    {
      "metadata": {
        "id": "-fX3aLxcHkyd",
        "colab_type": "code",
        "colab": {}
      },
      "cell_type": "code",
      "source": [
        "def conv2d(x, W, b, strides=1):\n",
        "    # Conv2D wrapper, with bias and relu activation\n",
        "    x = tf.nn.conv2d(x, W, strides=[1, strides, strides, 1], padding='SAME')\n",
        "    x = tf.nn.bias_add(x, b)\n",
        "    return tf.nn.relu(x) \n",
        "\n",
        "def maxpool2d(x, k=2):\n",
        "    return tf.nn.max_pool(x, ksize=[1, k, 1, 1], strides=[1, k, 1, 1],padding='SAME')"
      ],
      "execution_count": 0,
      "outputs": []
    },
    {
      "metadata": {
        "id": "wHgEun6_DdxA",
        "colab_type": "code",
        "colab": {}
      },
      "cell_type": "code",
      "source": [
        "\n",
        "weights = {\n",
        "    'wc1': tf.get_variable('W0', shape=(11,2,1,8), initializer=tf.contrib.layers.xavier_initializer()), \n",
        "    'wc2': tf.get_variable('W1', shape=(11,2,8,8), initializer=tf.contrib.layers.xavier_initializer()), \n",
        "    #'wc3': tf.get_variable('W2', shape=(11,2,16,32), initializer=tf.contrib.layers.xavier_initializer()), \n",
        "    'wd1': tf.get_variable('W3', shape=(8*32*2,8), initializer=tf.contrib.layers.xavier_initializer()), \n",
        "    'out': tf.get_variable('W6', shape=(8,n_classes), initializer=tf.contrib.layers.xavier_initializer()), \n",
        "}\n",
        "biases = {\n",
        "    'bc1': tf.get_variable('B0', shape=(8), initializer=tf.contrib.layers.xavier_initializer()),\n",
        "    'bc2': tf.get_variable('B1', shape=(8), initializer=tf.contrib.layers.xavier_initializer()),\n",
        "    #'bc3': tf.get_variable('B2', shape=(32), initializer=tf.contrib.layers.xavier_initializer()),\n",
        "    'bd1': tf.get_variable('B3', shape=(8), initializer=tf.contrib.layers.xavier_initializer()),\n",
        "    'out': tf.get_variable('B4', shape=(n_classes), initializer=tf.contrib.layers.xavier_initializer()),\n",
        "}"
      ],
      "execution_count": 0,
      "outputs": []
    },
    {
      "metadata": {
        "id": "fPxdB4RCOEJt",
        "colab_type": "code",
        "colab": {}
      },
      "cell_type": "code",
      "source": [
        "def conv_net(x, weights, biases):  \n",
        "\n",
        "    # here we call the conv2d function we had defined above and pass the input image x, weights wc1 and bias bc1.\n",
        "    conv1 = conv2d(x, weights['wc1'], biases['bc1'])\n",
        "    # Max Pooling (down-sampling), this chooses the max value from a 2*1 matrix window and outputs a 64*2 matrix.\n",
        "    conv1 = maxpool2d(conv1, k=2)\n",
        "\n",
        "    # Convolution Layer\n",
        "    # here we call the conv2d function we had defined above and pass the input image x, weights wc2 and bias bc2.\n",
        "    conv2 = conv2d(conv1, weights['wc2'], biases['bc2'])\n",
        "    # Max Pooling (down-sampling), this chooses the max value from a 2*1 matrix window and outputs a 32*2 matrix.\n",
        "    conv2 = maxpool2d(conv2, k=2)\n",
        "\n",
        "    #conv3 = conv2d(conv2, weights['wc3'], biases['bc3'])\n",
        "    # Max Pooling (down-sampling), this chooses the max value from a 2*1 matrix window and outputs a 16*2.\n",
        "    #conv3 = maxpool2d(conv3, k=2)\n",
        "\n",
        "\n",
        "    # Fully connected layer\n",
        "    # Reshape conv2 output to fit fully connected layer input\n",
        "    \n",
        "    fc1 = tf.reshape(conv2, [-1, weights['wd1'].get_shape().as_list()[0]])\n",
        "    fc1 = tf.add(tf.matmul(fc1, weights['wd1']), biases['bd1'])\n",
        "    fc1 = tf.nn.relu(fc1)\n",
        "    # Output, class prediction\n",
        "    # finally we multiply the fully connected layer with the weights and add a bias term. \n",
        "    out = tf.add(tf.matmul(fc1, weights['out']), biases['out'])\n",
        "    return out"
      ],
      "execution_count": 0,
      "outputs": []
    },
    {
      "metadata": {
        "id": "VyZzbuNPOPQ-",
        "colab_type": "code",
        "colab": {}
      },
      "cell_type": "code",
      "source": [
        "pred = conv_net(x, weights, biases)\n",
        "\n",
        "cost = tf.reduce_mean(tf.nn.softmax_cross_entropy_with_logits_v2(logits=pred, labels=y))\n",
        "\n",
        "optimizer = tf.train.AdamOptimizer(learning_rate=learning_rate).minimize(cost)\n",
        "\n",
        "#Here you check whether the index of the maximum value of the predicted image is equal to the actual labelled image. and both will be a column vector.\n",
        "correct_prediction = tf.equal(tf.argmax(pred, 1), tf.argmax(y, 1))\n",
        "\n",
        "#calculate accuracy across all the given images and average them out. \n",
        "accuracy = tf.reduce_mean(tf.cast(correct_prediction, tf.float32))"
      ],
      "execution_count": 0,
      "outputs": []
    },
    {
      "metadata": {
        "id": "k-EQebK1Og-j",
        "colab_type": "code",
        "colab": {}
      },
      "cell_type": "code",
      "source": [
        "init = tf.global_variables_initializer()\n",
        "saver = tf.train.Saver()"
      ],
      "execution_count": 0,
      "outputs": []
    },
    {
      "metadata": {
        "id": "1wyWRRKcOr2S",
        "colab_type": "code",
        "outputId": "38e2359f-3df3-455a-9204-256bfa086063",
        "colab": {
          "base_uri": "https://localhost:8080/",
          "height": 6254
        }
      },
      "cell_type": "code",
      "source": [
        "with tf.Session() as sess:\n",
        "    sess.run(init) \n",
        "    train_loss_list = []\n",
        "    test_loss_list = []\n",
        "    validation_loss_list = []\n",
        "    train_accuracy_list = []\n",
        "    test_accuracy_list = []\n",
        "    validation_accuracy_list = []\n",
        "    summary_writer = tf.summary.FileWriter('./Output', sess.graph)\n",
        "    for i in range(training_iters):\n",
        "        batch_num = int(len(train_X)/training_iters/batch_size)\n",
        "        loss = 0.0\n",
        "        acc = 0.0\n",
        "        for batch in range(batch_num):\n",
        "            batch_x = train_X[(i*batch_num+batch)*batch_size:min(((i*batch_num+batch)*batch_size+1)*batch_size,len(train_X))]\n",
        "            batch_y = train_y[(i*batch_num+batch)*batch_size:min(((i*batch_num+batch)*batch_size+1)*batch_size,len(train_y))]\n",
        "            # Run optimization op (backprop).\n",
        "                # Calculate batch loss and accuracy\n",
        "            opt = sess.run(optimizer, feed_dict={x: batch_x,\n",
        "                                                              y: batch_y})\n",
        "            loss, acc = sess.run([cost, accuracy], feed_dict={x: batch_x,\n",
        "                                                              y: batch_y})\n",
        "        train_loss_list.append(loss)\n",
        "        train_accuracy_list.append(acc)\n",
        "        val_acc,val_loss = sess.run([accuracy,cost], feed_dict={x: val_X,y : val_y})\n",
        "        validation_loss_list.append(val_loss)\n",
        "        validation_accuracy_list.append(val_acc)\n",
        "        print(\"Iter \" + str(i) + \", Loss= \" + \\\n",
        "                          \"{:.6f}\".format(train_loss_list[-1]) + \", Training Accuracy= \" + \\\n",
        "                          \"{:.5f}\".format(train_accuracy_list[-1]))\n",
        "        print(\"Validation Accuracy:\",\"{:.5f}\".format(val_acc))\n",
        "        print(\"Validation Loss:\",\"{:.5f}\".format(val_loss))\n",
        "    test_acc,test_loss = sess.run([accuracy,cost], feed_dict={x: test_X,y : test_y})\n",
        "    test_loss_list.append(test_loss)\n",
        "    test_accuracy_list.append(test_acc)\n",
        "    print(\"Testing Accuracy:\",\"{:.5f}\".format(test_acc))\n",
        "    summary_writer.close()\n",
        "    plt.plot(range(len(train_loss_list)), train_loss_list, 'black', label='Training loss')\n",
        "    plt.plot(range(len(validation_loss_list)), validation_loss_list, 'red', label='Validation loss')\n",
        "    plt.title('Training and Validation loss')\n",
        "    plt.xlabel('Epochs ',fontsize=16)\n",
        "    plt.ylabel('Loss',fontsize=16)\n",
        "    plt.legend()\n",
        "    plt.figure()\n",
        "    plt.show()\n",
        "    plt.plot(range(len(train_loss_list)), train_accuracy_list, 'black', label='Training Accuracy')\n",
        "    plt.plot(range(len(validation_accuracy_list)), validation_accuracy_list, 'red', label='Validation Accuracy')\n",
        "    plt.title('Training and Validation Accuracy')\n",
        "    plt.xlabel('Epochs ',fontsize=16)\n",
        "    plt.ylabel('Loss',fontsize=16)\n",
        "    plt.legend()\n",
        "    plt.figure()\n",
        "    plt.show()\n",
        "    modelName= \"./models/model_{}.ckpt\".format(datetime.datetime.now().strftime(\"%Y_%m_%d_%H:%M\"))\n",
        "    save_path = saver.save(sess, modelName)"
      ],
      "execution_count": 34,
      "outputs": [
        {
          "output_type": "stream",
          "text": [
            "Iter 0, Loss= 1.434934, Training Accuracy= 0.26000\n",
            "Validation Accuracy: 0.25170\n",
            "Validation Loss: 1.44243\n",
            "Iter 1, Loss= 1.393080, Training Accuracy= 0.14971\n",
            "Validation Accuracy: 0.15222\n",
            "Validation Loss: 1.39294\n",
            "Iter 2, Loss= 1.398296, Training Accuracy= 0.23734\n",
            "Validation Accuracy: 0.23888\n",
            "Validation Loss: 1.39777\n",
            "Iter 3, Loss= 1.392210, Training Accuracy= 0.25525\n",
            "Validation Accuracy: 0.25371\n",
            "Validation Loss: 1.39270\n",
            "Iter 4, Loss= 1.393593, Training Accuracy= 0.25469\n",
            "Validation Accuracy: 0.25371\n",
            "Validation Loss: 1.39396\n",
            "Iter 5, Loss= 1.389083, Training Accuracy= 0.25499\n",
            "Validation Accuracy: 0.25371\n",
            "Validation Loss: 1.38895\n",
            "Iter 6, Loss= 1.387271, Training Accuracy= 0.19869\n",
            "Validation Accuracy: 0.20083\n",
            "Validation Loss: 1.38707\n",
            "Iter 7, Loss= 1.385543, Training Accuracy= 0.25307\n",
            "Validation Accuracy: 0.25170\n",
            "Validation Loss: 1.38566\n",
            "Iter 8, Loss= 1.384208, Training Accuracy= 0.25883\n",
            "Validation Accuracy: 0.25710\n",
            "Validation Loss: 1.38432\n",
            "Iter 9, Loss= 1.383421, Training Accuracy= 0.25413\n",
            "Validation Accuracy: 0.25571\n",
            "Validation Loss: 1.38321\n",
            "Iter 10, Loss= 1.381710, Training Accuracy= 0.25352\n",
            "Validation Accuracy: 0.25484\n",
            "Validation Loss: 1.38159\n",
            "Iter 11, Loss= 1.380268, Training Accuracy= 0.30806\n",
            "Validation Accuracy: 0.30721\n",
            "Validation Loss: 1.38026\n",
            "Iter 12, Loss= 1.378253, Training Accuracy= 0.47249\n",
            "Validation Accuracy: 0.47689\n",
            "Validation Loss: 1.37812\n",
            "Iter 13, Loss= 1.376244, Training Accuracy= 0.25783\n",
            "Validation Accuracy: 0.26250\n",
            "Validation Loss: 1.37609\n",
            "Iter 14, Loss= 1.373775, Training Accuracy= 0.53252\n",
            "Validation Accuracy: 0.53881\n",
            "Validation Loss: 1.37372\n",
            "Iter 15, Loss= 1.370832, Training Accuracy= 0.54229\n",
            "Validation Accuracy: 0.54496\n",
            "Validation Loss: 1.37070\n",
            "Iter 16, Loss= 1.367269, Training Accuracy= 0.51022\n",
            "Validation Accuracy: 0.51432\n",
            "Validation Loss: 1.36712\n",
            "Iter 17, Loss= 1.362977, Training Accuracy= 0.48235\n",
            "Validation Accuracy: 0.48430\n",
            "Validation Loss: 1.36282\n",
            "Iter 18, Loss= 1.357627, Training Accuracy= 0.49310\n",
            "Validation Accuracy: 0.49523\n",
            "Validation Loss: 1.35748\n",
            "Iter 19, Loss= 1.351146, Training Accuracy= 0.49187\n",
            "Validation Accuracy: 0.49385\n",
            "Validation Loss: 1.35102\n",
            "Iter 20, Loss= 1.343191, Training Accuracy= 0.49407\n",
            "Validation Accuracy: 0.49560\n",
            "Validation Loss: 1.34305\n",
            "Iter 21, Loss= 1.333368, Training Accuracy= 0.50164\n",
            "Validation Accuracy: 0.50038\n",
            "Validation Loss: 1.33332\n",
            "Iter 22, Loss= 1.321774, Training Accuracy= 0.50900\n",
            "Validation Accuracy: 0.50791\n",
            "Validation Loss: 1.32164\n",
            "Iter 23, Loss= 1.307567, Training Accuracy= 0.51719\n",
            "Validation Accuracy: 0.51532\n",
            "Validation Loss: 1.30762\n",
            "Iter 24, Loss= 1.291260, Training Accuracy= 0.51669\n",
            "Validation Accuracy: 0.51344\n",
            "Validation Loss: 1.29138\n",
            "Iter 25, Loss= 1.271480, Training Accuracy= 0.53117\n",
            "Validation Accuracy: 0.52524\n",
            "Validation Loss: 1.27164\n",
            "Iter 26, Loss= 1.247954, Training Accuracy= 0.54057\n",
            "Validation Accuracy: 0.53492\n",
            "Validation Loss: 1.24830\n",
            "Iter 27, Loss= 1.221746, Training Accuracy= 0.51047\n",
            "Validation Accuracy: 0.50741\n",
            "Validation Loss: 1.22191\n",
            "Iter 28, Loss= 1.192601, Training Accuracy= 0.49956\n",
            "Validation Accuracy: 0.49749\n",
            "Validation Loss: 1.19289\n",
            "Iter 29, Loss= 1.160615, Training Accuracy= 0.50072\n",
            "Validation Accuracy: 0.49812\n",
            "Validation Loss: 1.16110\n",
            "Iter 30, Loss= 1.128688, Training Accuracy= 0.50474\n",
            "Validation Accuracy: 0.50251\n",
            "Validation Loss: 1.12923\n",
            "Iter 31, Loss= 1.094718, Training Accuracy= 0.50257\n",
            "Validation Accuracy: 0.50088\n",
            "Validation Loss: 1.09518\n",
            "Iter 32, Loss= 1.060788, Training Accuracy= 0.51200\n",
            "Validation Accuracy: 0.51042\n",
            "Validation Loss: 1.06188\n",
            "Iter 33, Loss= 1.029394, Training Accuracy= 0.51628\n",
            "Validation Accuracy: 0.51344\n",
            "Validation Loss: 1.03013\n",
            "Iter 34, Loss= 0.999855, Training Accuracy= 0.54322\n",
            "Validation Accuracy: 0.53768\n",
            "Validation Loss: 1.00172\n",
            "Iter 35, Loss= 0.973369, Training Accuracy= 0.54636\n",
            "Validation Accuracy: 0.54245\n",
            "Validation Loss: 0.97587\n",
            "Iter 36, Loss= 0.949338, Training Accuracy= 0.56047\n",
            "Validation Accuracy: 0.55953\n",
            "Validation Loss: 0.95267\n",
            "Iter 37, Loss= 0.927087, Training Accuracy= 0.62303\n",
            "Validation Accuracy: 0.62246\n",
            "Validation Loss: 0.93121\n",
            "Iter 38, Loss= 0.904073, Training Accuracy= 0.63069\n",
            "Validation Accuracy: 0.63062\n",
            "Validation Loss: 0.90935\n",
            "Iter 39, Loss= 0.879867, Training Accuracy= 0.65065\n",
            "Validation Accuracy: 0.65109\n",
            "Validation Loss: 0.88587\n",
            "Iter 40, Loss= 0.853196, Training Accuracy= 0.68185\n",
            "Validation Accuracy: 0.68224\n",
            "Validation Loss: 0.85889\n",
            "Iter 41, Loss= 0.821826, Training Accuracy= 0.68645\n",
            "Validation Accuracy: 0.68890\n",
            "Validation Loss: 0.82785\n",
            "Iter 42, Loss= 0.789410, Training Accuracy= 0.70883\n",
            "Validation Accuracy: 0.71176\n",
            "Validation Loss: 0.79565\n",
            "Iter 43, Loss= 0.757855, Training Accuracy= 0.71681\n",
            "Validation Accuracy: 0.72118\n",
            "Validation Loss: 0.76394\n",
            "Iter 44, Loss= 0.730054, Training Accuracy= 0.72680\n",
            "Validation Accuracy: 0.73185\n",
            "Validation Loss: 0.73692\n",
            "Iter 45, Loss= 0.703802, Training Accuracy= 0.73531\n",
            "Validation Accuracy: 0.73562\n",
            "Validation Loss: 0.71128\n",
            "Iter 46, Loss= 0.682913, Training Accuracy= 0.73930\n",
            "Validation Accuracy: 0.74115\n",
            "Validation Loss: 0.69062\n",
            "Iter 47, Loss= 0.664319, Training Accuracy= 0.74501\n",
            "Validation Accuracy: 0.74629\n",
            "Validation Loss: 0.67196\n",
            "Iter 48, Loss= 0.646782, Training Accuracy= 0.75166\n",
            "Validation Accuracy: 0.75270\n",
            "Validation Loss: 0.65485\n",
            "Iter 49, Loss= 0.628037, Training Accuracy= 0.75334\n",
            "Validation Accuracy: 0.75622\n",
            "Validation Loss: 0.63569\n",
            "Iter 50, Loss= 0.612649, Training Accuracy= 0.76088\n",
            "Validation Accuracy: 0.76350\n",
            "Validation Loss: 0.62044\n",
            "Iter 51, Loss= 0.604876, Training Accuracy= 0.74834\n",
            "Validation Accuracy: 0.75094\n",
            "Validation Loss: 0.61213\n",
            "Iter 52, Loss= 0.587308, Training Accuracy= 0.76316\n",
            "Validation Accuracy: 0.76802\n",
            "Validation Loss: 0.59426\n",
            "Iter 53, Loss= 0.575529, Training Accuracy= 0.76663\n",
            "Validation Accuracy: 0.77003\n",
            "Validation Loss: 0.58223\n",
            "Iter 54, Loss= 0.561797, Training Accuracy= 0.76859\n",
            "Validation Accuracy: 0.76991\n",
            "Validation Loss: 0.56802\n",
            "Iter 55, Loss= 0.551139, Training Accuracy= 0.76959\n",
            "Validation Accuracy: 0.77242\n",
            "Validation Loss: 0.55698\n",
            "Iter 56, Loss= 0.539887, Training Accuracy= 0.77692\n",
            "Validation Accuracy: 0.77820\n",
            "Validation Loss: 0.54632\n",
            "Iter 57, Loss= 0.528335, Training Accuracy= 0.77970\n",
            "Validation Accuracy: 0.78046\n",
            "Validation Loss: 0.53568\n",
            "Iter 58, Loss= 0.518213, Training Accuracy= 0.78052\n",
            "Validation Accuracy: 0.78209\n",
            "Validation Loss: 0.52523\n",
            "Iter 59, Loss= 0.507696, Training Accuracy= 0.78531\n",
            "Validation Accuracy: 0.78598\n",
            "Validation Loss: 0.51598\n",
            "Iter 60, Loss= 0.498608, Training Accuracy= 0.78438\n",
            "Validation Accuracy: 0.78611\n",
            "Validation Loss: 0.50654\n",
            "Iter 61, Loss= 0.490864, Training Accuracy= 0.78835\n",
            "Validation Accuracy: 0.79000\n",
            "Validation Loss: 0.49830\n",
            "Iter 62, Loss= 0.482836, Training Accuracy= 0.78929\n",
            "Validation Accuracy: 0.79126\n",
            "Validation Loss: 0.48994\n",
            "Iter 63, Loss= 0.474738, Training Accuracy= 0.79000\n",
            "Validation Accuracy: 0.79277\n",
            "Validation Loss: 0.48242\n",
            "Iter 64, Loss= 0.466465, Training Accuracy= 0.79292\n",
            "Validation Accuracy: 0.79364\n",
            "Validation Loss: 0.47519\n",
            "Iter 65, Loss= 0.459435, Training Accuracy= 0.79447\n",
            "Validation Accuracy: 0.79503\n",
            "Validation Loss: 0.46836\n",
            "Iter 66, Loss= 0.453062, Training Accuracy= 0.79503\n",
            "Validation Accuracy: 0.79691\n",
            "Validation Loss: 0.46175\n",
            "Iter 67, Loss= 0.447032, Training Accuracy= 0.79571\n",
            "Validation Accuracy: 0.79779\n",
            "Validation Loss: 0.45547\n",
            "Iter 68, Loss= 0.441704, Training Accuracy= 0.79700\n",
            "Validation Accuracy: 0.79942\n",
            "Validation Loss: 0.44948\n",
            "Iter 69, Loss= 0.438231, Training Accuracy= 0.81505\n",
            "Validation Accuracy: 0.81311\n",
            "Validation Loss: 0.44621\n",
            "Iter 70, Loss= 0.439394, Training Accuracy= 0.86250\n",
            "Validation Accuracy: 0.86096\n",
            "Validation Loss: 0.44681\n",
            "Iter 71, Loss= 0.451392, Training Accuracy= 0.90774\n",
            "Validation Accuracy: 0.90605\n",
            "Validation Loss: 0.45946\n",
            "Iter 72, Loss= 0.424741, Training Accuracy= 0.79814\n",
            "Validation Accuracy: 0.80143\n",
            "Validation Loss: 0.43098\n",
            "Iter 73, Loss= 0.427576, Training Accuracy= 0.79317\n",
            "Validation Accuracy: 0.79678\n",
            "Validation Loss: 0.43281\n",
            "Iter 74, Loss= 0.425871, Training Accuracy= 0.79302\n",
            "Validation Accuracy: 0.79704\n",
            "Validation Loss: 0.43069\n",
            "Iter 75, Loss= 0.420009, Training Accuracy= 0.79400\n",
            "Validation Accuracy: 0.79879\n",
            "Validation Loss: 0.42555\n",
            "Iter 76, Loss= 0.413435, Training Accuracy= 0.79585\n",
            "Validation Accuracy: 0.80269\n",
            "Validation Loss: 0.41941\n",
            "Iter 77, Loss= 0.408890, Training Accuracy= 0.80079\n",
            "Validation Accuracy: 0.80382\n",
            "Validation Loss: 0.41496\n",
            "Iter 78, Loss= 0.406553, Training Accuracy= 0.81126\n",
            "Validation Accuracy: 0.81248\n",
            "Validation Loss: 0.41224\n",
            "Iter 79, Loss= 0.404354, Training Accuracy= 0.82250\n",
            "Validation Accuracy: 0.82253\n",
            "Validation Loss: 0.41005\n",
            "Iter 80, Loss= 0.402810, Training Accuracy= 0.82411\n",
            "Validation Accuracy: 0.82492\n",
            "Validation Loss: 0.40706\n",
            "Iter 81, Loss= 0.399551, Training Accuracy= 0.81679\n",
            "Validation Accuracy: 0.81864\n",
            "Validation Loss: 0.40351\n",
            "Iter 82, Loss= 0.396667, Training Accuracy= 0.80826\n",
            "Validation Accuracy: 0.81198\n",
            "Validation Loss: 0.40023\n",
            "Iter 83, Loss= 0.393809, Training Accuracy= 0.80751\n",
            "Validation Accuracy: 0.81073\n",
            "Validation Loss: 0.39742\n",
            "Iter 84, Loss= 0.390641, Training Accuracy= 0.80888\n",
            "Validation Accuracy: 0.81437\n",
            "Validation Loss: 0.39467\n",
            "Iter 85, Loss= 0.386933, Training Accuracy= 0.81552\n",
            "Validation Accuracy: 0.81826\n",
            "Validation Loss: 0.39182\n",
            "Iter 86, Loss= 0.383415, Training Accuracy= 0.82181\n",
            "Validation Accuracy: 0.82354\n",
            "Validation Loss: 0.38918\n",
            "Iter 87, Loss= 0.379689, Training Accuracy= 0.82692\n",
            "Validation Accuracy: 0.82730\n",
            "Validation Loss: 0.38654\n",
            "Iter 88, Loss= 0.376631, Training Accuracy= 0.82177\n",
            "Validation Accuracy: 0.82555\n",
            "Validation Loss: 0.38371\n",
            "Iter 89, Loss= 0.375120, Training Accuracy= 0.82570\n",
            "Validation Accuracy: 0.82931\n",
            "Validation Loss: 0.38105\n",
            "Iter 90, Loss= 0.372280, Training Accuracy= 0.83426\n",
            "Validation Accuracy: 0.83723\n",
            "Validation Loss: 0.37855\n",
            "Iter 91, Loss= 0.369992, Training Accuracy= 0.83713\n",
            "Validation Accuracy: 0.83961\n",
            "Validation Loss: 0.37588\n",
            "Iter 92, Loss= 0.368086, Training Accuracy= 0.83908\n",
            "Validation Accuracy: 0.84238\n",
            "Validation Loss: 0.37325\n",
            "Iter 93, Loss= 0.363871, Training Accuracy= 0.84624\n",
            "Validation Accuracy: 0.85029\n",
            "Validation Loss: 0.37075\n",
            "Iter 94, Loss= 0.361543, Training Accuracy= 0.84083\n",
            "Validation Accuracy: 0.84125\n",
            "Validation Loss: 0.36791\n",
            "Iter 95, Loss= 0.357984, Training Accuracy= 0.84508\n",
            "Validation Accuracy: 0.84589\n",
            "Validation Loss: 0.36535\n",
            "Iter 96, Loss= 0.355544, Training Accuracy= 0.85588\n",
            "Validation Accuracy: 0.85393\n",
            "Validation Loss: 0.36293\n",
            "Iter 97, Loss= 0.353659, Training Accuracy= 0.85777\n",
            "Validation Accuracy: 0.85519\n",
            "Validation Loss: 0.36031\n",
            "Iter 98, Loss= 0.349987, Training Accuracy= 0.85766\n",
            "Validation Accuracy: 0.85531\n",
            "Validation Loss: 0.35768\n",
            "Iter 99, Loss= 0.348090, Training Accuracy= 0.86770\n",
            "Validation Accuracy: 0.86235\n",
            "Validation Loss: 0.35522\n",
            "Testing Accuracy: 0.86423\n"
          ],
          "name": "stdout"
        },
        {
          "output_type": "display_data",
          "data": {
            "image/png": "[encoded data removed]",
            "text/plain": [
              "<matplotlib.figure.Figure at 0x7f0ded972160>"
            ]
          },
          "metadata": {
            "tags": []
          }
        },
        {
          "output_type": "display_data",
          "data": {
            "text/plain": [
              "<matplotlib.figure.Figure at 0x7f0dee22c400>"
            ]
          },
          "metadata": {
            "tags": []
          }
        },
        {
          "output_type": "display_data",
          "data": {
            "image/png": "[encoded data removed]",
            "text/plain": [
              "<matplotlib.figure.Figure at 0x7f0df131c3c8>"
            ]
          },
          "metadata": {
            "tags": []
          }
        },
        {
          "output_type": "display_data",
          "data": {
            "text/plain": [
              "<matplotlib.figure.Figure at 0x7f0df13c0240>"
            ]
          },
          "metadata": {
            "tags": []
          }
        }
      ]
    },
    {
      "metadata": {
        "id": "STtXhncLulJe",
        "colab_type": "code",
        "colab": {
          "resources": {
            "http://localhost:8080/nbextensions/google.colab/files.js": {
              "data": "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",
              "ok": true,
              "headers": [
                [
                  "content-type",
                  "application/javascript"
                ]
              ],
              "status": 200,
              "status_text": ""
            }
          },
          "base_uri": "https://localhost:8080/",
          "height": 1083
        },
        "outputId": "49c4d1eb-6acc-4893-eaf7-838c6f8edb5d"
      },
      "cell_type": "code",
      "source": [
        "from google.colab import files\n",
        "\n",
        "uploaded = files.upload()\n",
        "saver = tf.train.Saver()\n",
        "\n",
        "# Later, launch the model, use the saver to restore variables from disk, and\n",
        "# do some work with the model.\n",
        "counter = 0"
      ],
      "execution_count": 60,
      "outputs": [
        {
          "output_type": "display_data",
          "data": {
            "text/html": [
              "\n",
              "     <input type=\"file\" id=\"files-51b68726-b625-4aff-b40c-0c56d86e0781\" name=\"files[]\" multiple disabled />\n",
              "     <output id=\"result-51b68726-b625-4aff-b40c-0c56d86e0781\">\n",
              "      Upload widget is only available when the cell has been executed in the\n",
              "      current browser session. Please rerun this cell to enable.\n",
              "      </output>\n",
              "      <script src=\"/nbextensions/google.colab/files.js\"></script> "
            ],
            "text/plain": [
              "<IPython.core.display.HTML object>"
            ]
          },
          "metadata": {
            "tags": []
          }
        },
        {
          "output_type": "stream",
          "text": [
            "Saving checkpoint to checkpoint\n"
          ],
          "name": "stdout"
        },
        {
          "output_type": "error",
          "ename": "ValueError",
          "evalue": "ignored",
          "traceback": [
            "\u001b[0;31m---------------------------------------------------------------------------\u001b[0m",
            "\u001b[0;31mValueError\u001b[0m                                Traceback (most recent call last)",
            "\u001b[0;32m<ipython-input-60-c3e29865719b>\u001b[0m in \u001b[0;36m<module>\u001b[0;34m()\u001b[0m\n\u001b[1;32m      2\u001b[0m \u001b[0;34m\u001b[0m\u001b[0m\n\u001b[1;32m      3\u001b[0m \u001b[0muploaded\u001b[0m \u001b[0;34m=\u001b[0m \u001b[0mfiles\u001b[0m\u001b[0;34m.\u001b[0m\u001b[0mupload\u001b[0m\u001b[0;34m(\u001b[0m\u001b[0;34m)\u001b[0m\u001b[0;34m\u001b[0m\u001b[0;34m\u001b[0m\u001b[0m\n\u001b[0;32m----> 4\u001b[0;31m \u001b[0msaver\u001b[0m \u001b[0;34m=\u001b[0m \u001b[0mtf\u001b[0m\u001b[0;34m.\u001b[0m\u001b[0mtrain\u001b[0m\u001b[0;34m.\u001b[0m\u001b[0mSaver\u001b[0m\u001b[0;34m(\u001b[0m\u001b[0;34m)\u001b[0m\u001b[0;34m\u001b[0m\u001b[0;34m\u001b[0m\u001b[0m\n\u001b[0m\u001b[1;32m      5\u001b[0m \u001b[0;34m\u001b[0m\u001b[0m\n\u001b[1;32m      6\u001b[0m \u001b[0;31m# Later, launch the model, use the saver to restore variables from disk, and\u001b[0m\u001b[0;34m\u001b[0m\u001b[0;34m\u001b[0m\u001b[0;34m\u001b[0m\u001b[0m\n",
            "\u001b[0;32m/usr/local/lib/python3.6/dist-packages/tensorflow/python/training/saver.py\u001b[0m in \u001b[0;36m__init__\u001b[0;34m(self, var_list, reshape, sharded, max_to_keep, keep_checkpoint_every_n_hours, name, restore_sequentially, saver_def, builder, defer_build, allow_empty, write_version, pad_step_number, save_relative_paths, filename)\u001b[0m\n\u001b[1;32m   1100\u001b[0m           time.time() + self._keep_checkpoint_every_n_hours * 3600)\n\u001b[1;32m   1101\u001b[0m     \u001b[0;32melif\u001b[0m \u001b[0;32mnot\u001b[0m \u001b[0mdefer_build\u001b[0m\u001b[0;34m:\u001b[0m\u001b[0;34m\u001b[0m\u001b[0;34m\u001b[0m\u001b[0m\n\u001b[0;32m-> 1102\u001b[0;31m       \u001b[0mself\u001b[0m\u001b[0;34m.\u001b[0m\u001b[0mbuild\u001b[0m\u001b[0;34m(\u001b[0m\u001b[0;34m)\u001b[0m\u001b[0;34m\u001b[0m\u001b[0;34m\u001b[0m\u001b[0m\n\u001b[0m\u001b[1;32m   1103\u001b[0m     \u001b[0;32mif\u001b[0m \u001b[0mself\u001b[0m\u001b[0;34m.\u001b[0m\u001b[0msaver_def\u001b[0m\u001b[0;34m:\u001b[0m\u001b[0;34m\u001b[0m\u001b[0;34m\u001b[0m\u001b[0m\n\u001b[1;32m   1104\u001b[0m       \u001b[0mself\u001b[0m\u001b[0;34m.\u001b[0m\u001b[0m_check_saver_def\u001b[0m\u001b[0;34m(\u001b[0m\u001b[0;34m)\u001b[0m\u001b[0;34m\u001b[0m\u001b[0;34m\u001b[0m\u001b[0m\n",
            "\u001b[0;32m/usr/local/lib/python3.6/dist-packages/tensorflow/python/training/saver.py\u001b[0m in \u001b[0;36mbuild\u001b[0;34m(self)\u001b[0m\n\u001b[1;32m   1112\u001b[0m     \u001b[0;32mif\u001b[0m \u001b[0mcontext\u001b[0m\u001b[0;34m.\u001b[0m\u001b[0mexecuting_eagerly\u001b[0m\u001b[0;34m(\u001b[0m\u001b[0;34m)\u001b[0m\u001b[0;34m:\u001b[0m\u001b[0;34m\u001b[0m\u001b[0;34m\u001b[0m\u001b[0m\n\u001b[1;32m   1113\u001b[0m       \u001b[0;32mraise\u001b[0m \u001b[0mRuntimeError\u001b[0m\u001b[0;34m(\u001b[0m\u001b[0;34m\"Use save/restore instead of build in eager mode.\"\u001b[0m\u001b[0;34m)\u001b[0m\u001b[0;34m\u001b[0m\u001b[0;34m\u001b[0m\u001b[0m\n\u001b[0;32m-> 1114\u001b[0;31m     \u001b[0mself\u001b[0m\u001b[0;34m.\u001b[0m\u001b[0m_build\u001b[0m\u001b[0;34m(\u001b[0m\u001b[0mself\u001b[0m\u001b[0;34m.\u001b[0m\u001b[0m_filename\u001b[0m\u001b[0;34m,\u001b[0m \u001b[0mbuild_save\u001b[0m\u001b[0;34m=\u001b[0m\u001b[0;32mTrue\u001b[0m\u001b[0;34m,\u001b[0m \u001b[0mbuild_restore\u001b[0m\u001b[0;34m=\u001b[0m\u001b[0;32mTrue\u001b[0m\u001b[0;34m)\u001b[0m\u001b[0;34m\u001b[0m\u001b[0;34m\u001b[0m\u001b[0m\n\u001b[0m\u001b[1;32m   1115\u001b[0m \u001b[0;34m\u001b[0m\u001b[0m\n\u001b[1;32m   1116\u001b[0m   \u001b[0;32mdef\u001b[0m \u001b[0m_build_eager\u001b[0m\u001b[0;34m(\u001b[0m\u001b[0mself\u001b[0m\u001b[0;34m,\u001b[0m \u001b[0mcheckpoint_path\u001b[0m\u001b[0;34m,\u001b[0m \u001b[0mbuild_save\u001b[0m\u001b[0;34m,\u001b[0m \u001b[0mbuild_restore\u001b[0m\u001b[0;34m)\u001b[0m\u001b[0;34m:\u001b[0m\u001b[0;34m\u001b[0m\u001b[0;34m\u001b[0m\u001b[0m\n",
            "\u001b[0;32m/usr/local/lib/python3.6/dist-packages/tensorflow/python/training/saver.py\u001b[0m in \u001b[0;36m_build\u001b[0;34m(self, checkpoint_path, build_save, build_restore)\u001b[0m\n\u001b[1;32m   1149\u001b[0m           \u001b[0mrestore_sequentially\u001b[0m\u001b[0;34m=\u001b[0m\u001b[0mself\u001b[0m\u001b[0;34m.\u001b[0m\u001b[0m_restore_sequentially\u001b[0m\u001b[0;34m,\u001b[0m\u001b[0;34m\u001b[0m\u001b[0;34m\u001b[0m\u001b[0m\n\u001b[1;32m   1150\u001b[0m           \u001b[0mfilename\u001b[0m\u001b[0;34m=\u001b[0m\u001b[0mcheckpoint_path\u001b[0m\u001b[0;34m,\u001b[0m\u001b[0;34m\u001b[0m\u001b[0;34m\u001b[0m\u001b[0m\n\u001b[0;32m-> 1151\u001b[0;31m           build_save=build_save, build_restore=build_restore)\n\u001b[0m\u001b[1;32m   1152\u001b[0m     \u001b[0;32melif\u001b[0m \u001b[0mself\u001b[0m\u001b[0;34m.\u001b[0m\u001b[0msaver_def\u001b[0m \u001b[0;32mand\u001b[0m \u001b[0mself\u001b[0m\u001b[0;34m.\u001b[0m\u001b[0m_name\u001b[0m\u001b[0;34m:\u001b[0m\u001b[0;34m\u001b[0m\u001b[0;34m\u001b[0m\u001b[0m\n\u001b[1;32m   1153\u001b[0m       \u001b[0;31m# Since self._name is used as a name_scope by builder(), we are\u001b[0m\u001b[0;34m\u001b[0m\u001b[0;34m\u001b[0m\u001b[0;34m\u001b[0m\u001b[0m\n",
            "\u001b[0;32m/usr/local/lib/python3.6/dist-packages/tensorflow/python/training/saver.py\u001b[0m in \u001b[0;36m_build_internal\u001b[0;34m(self, names_to_saveables, reshape, sharded, max_to_keep, keep_checkpoint_every_n_hours, name, restore_sequentially, filename, build_save, build_restore)\u001b[0m\n\u001b[1;32m    771\u001b[0m                        \" when eager execution is not enabled.\")\n\u001b[1;32m    772\u001b[0m \u001b[0;34m\u001b[0m\u001b[0m\n\u001b[0;32m--> 773\u001b[0;31m     \u001b[0msaveables\u001b[0m \u001b[0;34m=\u001b[0m \u001b[0mself\u001b[0m\u001b[0;34m.\u001b[0m\u001b[0m_ValidateAndSliceInputs\u001b[0m\u001b[0;34m(\u001b[0m\u001b[0mnames_to_saveables\u001b[0m\u001b[0;34m)\u001b[0m\u001b[0;34m\u001b[0m\u001b[0;34m\u001b[0m\u001b[0m\n\u001b[0m\u001b[1;32m    774\u001b[0m     \u001b[0;32mif\u001b[0m \u001b[0mmax_to_keep\u001b[0m \u001b[0;32mis\u001b[0m \u001b[0;32mNone\u001b[0m\u001b[0;34m:\u001b[0m\u001b[0;34m\u001b[0m\u001b[0;34m\u001b[0m\u001b[0m\n\u001b[1;32m    775\u001b[0m       \u001b[0mmax_to_keep\u001b[0m \u001b[0;34m=\u001b[0m \u001b[0;36m0\u001b[0m\u001b[0;34m\u001b[0m\u001b[0;34m\u001b[0m\u001b[0m\n",
            "\u001b[0;32m/usr/local/lib/python3.6/dist-packages/tensorflow/python/training/saver.py\u001b[0m in \u001b[0;36m_ValidateAndSliceInputs\u001b[0;34m(self, names_to_saveables)\u001b[0m\n\u001b[1;32m    671\u001b[0m     \"\"\"\n\u001b[1;32m    672\u001b[0m     \u001b[0;32mif\u001b[0m \u001b[0;32mnot\u001b[0m \u001b[0misinstance\u001b[0m\u001b[0;34m(\u001b[0m\u001b[0mnames_to_saveables\u001b[0m\u001b[0;34m,\u001b[0m \u001b[0mdict\u001b[0m\u001b[0;34m)\u001b[0m\u001b[0;34m:\u001b[0m\u001b[0;34m\u001b[0m\u001b[0;34m\u001b[0m\u001b[0m\n\u001b[0;32m--> 673\u001b[0;31m       \u001b[0mnames_to_saveables\u001b[0m \u001b[0;34m=\u001b[0m \u001b[0mBaseSaverBuilder\u001b[0m\u001b[0;34m.\u001b[0m\u001b[0mOpListToDict\u001b[0m\u001b[0;34m(\u001b[0m\u001b[0mnames_to_saveables\u001b[0m\u001b[0;34m)\u001b[0m\u001b[0;34m\u001b[0m\u001b[0;34m\u001b[0m\u001b[0m\n\u001b[0m\u001b[1;32m    674\u001b[0m \u001b[0;34m\u001b[0m\u001b[0m\n\u001b[1;32m    675\u001b[0m     \u001b[0msaveables\u001b[0m \u001b[0;34m=\u001b[0m \u001b[0;34m[\u001b[0m\u001b[0;34m]\u001b[0m\u001b[0;34m\u001b[0m\u001b[0;34m\u001b[0m\u001b[0m\n",
            "\u001b[0;32m/usr/local/lib/python3.6/dist-packages/tensorflow/python/training/saver.py\u001b[0m in \u001b[0;36mOpListToDict\u001b[0;34m(op_list, convert_variable_to_tensor)\u001b[0m\n\u001b[1;32m    570\u001b[0m           \u001b[0;32mif\u001b[0m \u001b[0mname\u001b[0m \u001b[0;32min\u001b[0m \u001b[0mnames_to_saveables\u001b[0m\u001b[0;34m:\u001b[0m\u001b[0;34m\u001b[0m\u001b[0;34m\u001b[0m\u001b[0m\n\u001b[1;32m    571\u001b[0m             raise ValueError(\"At least two variables have the same name: %s\" %\n\u001b[0;32m--> 572\u001b[0;31m                              name)\n\u001b[0m\u001b[1;32m    573\u001b[0m           \u001b[0mnames_to_saveables\u001b[0m\u001b[0;34m[\u001b[0m\u001b[0mname\u001b[0m\u001b[0;34m]\u001b[0m \u001b[0;34m=\u001b[0m \u001b[0mvar\u001b[0m\u001b[0;34m\u001b[0m\u001b[0;34m\u001b[0m\u001b[0m\n\u001b[1;32m    574\u001b[0m \u001b[0;34m\u001b[0m\u001b[0m\n",
            "\u001b[0;31mValueError\u001b[0m: At least two variables have the same name: B0/Adam"
          ]
        }
      ]
    },
    {
      "metadata": {
        "id": "p2VyHdCqy6X_",
        "colab_type": "code",
        "colab": {
          "base_uri": "https://localhost:8080/",
          "height": 371
        },
        "outputId": "9673acd9-d6ef-4304-90c4-4efc7b054bb9"
      },
      "cell_type": "code",
      "source": [
        "with tf.Session() as sess:\n",
        "\n",
        "  saver = tf.train.import_meta_graph(\"model_2019_01_06_16_31.ckpt.meta\")\n",
        "  saver.restore(sess,tf.train.latest_checkpoint('./'))\n",
        "  print(\"Model restored.\")\n",
        "  currentCounter = counter % len(test_X)\n",
        "  print(\"Prediciton: {}, Actual Label: {}\".format(Classes[tf.argmax(sess.run([pred], feed_dict={x: test_X[currentCounter]}),1)]),(Classes[tf.argmax(test_y[currentCounter])]))\n",
        "  counter =  counter + 1\n",
        "    "
      ],
      "execution_count": 59,
      "outputs": [
        {
          "output_type": "error",
          "ename": "ValueError",
          "evalue": "ignored",
          "traceback": [
            "\u001b[0;31m---------------------------------------------------------------------------\u001b[0m",
            "\u001b[0;31mValueError\u001b[0m                                Traceback (most recent call last)",
            "\u001b[0;32m<ipython-input-59-699939871f73>\u001b[0m in \u001b[0;36m<module>\u001b[0;34m()\u001b[0m\n\u001b[1;32m      2\u001b[0m \u001b[0;34m\u001b[0m\u001b[0m\n\u001b[1;32m      3\u001b[0m   \u001b[0msaver\u001b[0m \u001b[0;34m=\u001b[0m \u001b[0mtf\u001b[0m\u001b[0;34m.\u001b[0m\u001b[0mtrain\u001b[0m\u001b[0;34m.\u001b[0m\u001b[0mimport_meta_graph\u001b[0m\u001b[0;34m(\u001b[0m\u001b[0;34m\"model_2019_01_06_16_31.ckpt.meta\"\u001b[0m\u001b[0;34m)\u001b[0m\u001b[0;34m\u001b[0m\u001b[0;34m\u001b[0m\u001b[0m\n\u001b[0;32m----> 4\u001b[0;31m   \u001b[0msaver\u001b[0m\u001b[0;34m.\u001b[0m\u001b[0mrestore\u001b[0m\u001b[0;34m(\u001b[0m\u001b[0msess\u001b[0m\u001b[0;34m,\u001b[0m\u001b[0mtf\u001b[0m\u001b[0;34m.\u001b[0m\u001b[0mtrain\u001b[0m\u001b[0;34m.\u001b[0m\u001b[0mlatest_checkpoint\u001b[0m\u001b[0;34m(\u001b[0m\u001b[0;34m'./'\u001b[0m\u001b[0;34m)\u001b[0m\u001b[0;34m)\u001b[0m\u001b[0;34m\u001b[0m\u001b[0;34m\u001b[0m\u001b[0m\n\u001b[0m\u001b[1;32m      5\u001b[0m   \u001b[0mprint\u001b[0m\u001b[0;34m(\u001b[0m\u001b[0;34m\"Model restored.\"\u001b[0m\u001b[0;34m)\u001b[0m\u001b[0;34m\u001b[0m\u001b[0;34m\u001b[0m\u001b[0m\n\u001b[1;32m      6\u001b[0m   \u001b[0mcurrentCounter\u001b[0m \u001b[0;34m=\u001b[0m \u001b[0mcounter\u001b[0m \u001b[0;34m%\u001b[0m \u001b[0mlen\u001b[0m\u001b[0;34m(\u001b[0m\u001b[0mtest_X\u001b[0m\u001b[0;34m)\u001b[0m\u001b[0;34m\u001b[0m\u001b[0;34m\u001b[0m\u001b[0m\n",
            "\u001b[0;32m/usr/local/lib/python3.6/dist-packages/tensorflow/python/training/saver.py\u001b[0m in \u001b[0;36mrestore\u001b[0;34m(self, sess, save_path)\u001b[0m\n\u001b[1;32m   1532\u001b[0m       \u001b[0;32mreturn\u001b[0m\u001b[0;34m\u001b[0m\u001b[0;34m\u001b[0m\u001b[0m\n\u001b[1;32m   1533\u001b[0m     \u001b[0;32mif\u001b[0m \u001b[0msave_path\u001b[0m \u001b[0;32mis\u001b[0m \u001b[0;32mNone\u001b[0m\u001b[0;34m:\u001b[0m\u001b[0;34m\u001b[0m\u001b[0;34m\u001b[0m\u001b[0m\n\u001b[0;32m-> 1534\u001b[0;31m       \u001b[0;32mraise\u001b[0m \u001b[0mValueError\u001b[0m\u001b[0;34m(\u001b[0m\u001b[0;34m\"Can't load save_path when it is None.\"\u001b[0m\u001b[0;34m)\u001b[0m\u001b[0;34m\u001b[0m\u001b[0;34m\u001b[0m\u001b[0m\n\u001b[0m\u001b[1;32m   1535\u001b[0m \u001b[0;34m\u001b[0m\u001b[0m\n\u001b[1;32m   1536\u001b[0m     \u001b[0;32mif\u001b[0m \u001b[0;32mnot\u001b[0m \u001b[0mcheckpoint_management\u001b[0m\u001b[0;34m.\u001b[0m\u001b[0mcheckpoint_exists\u001b[0m\u001b[0;34m(\u001b[0m\u001b[0mcompat\u001b[0m\u001b[0;34m.\u001b[0m\u001b[0mas_text\u001b[0m\u001b[0;34m(\u001b[0m\u001b[0msave_path\u001b[0m\u001b[0;34m)\u001b[0m\u001b[0;34m)\u001b[0m\u001b[0;34m:\u001b[0m\u001b[0;34m\u001b[0m\u001b[0;34m\u001b[0m\u001b[0m\n",
            "\u001b[0;31mValueError\u001b[0m: Can't load save_path when it is None."
          ]
        }
      ]
    }
  ]
}